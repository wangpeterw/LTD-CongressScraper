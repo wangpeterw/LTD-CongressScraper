{
 "cells": [
  {
   "cell_type": "markdown",
   "metadata": {},
   "source": [
    "# Searchlight"
   ]
  },
  {
   "cell_type": "markdown",
   "metadata": {},
   "source": [
    "## Imports"
   ]
  },
  {
   "cell_type": "code",
   "execution_count": null,
   "metadata": {
    "collapsed": true
   },
   "outputs": [],
   "source": [
    "import pandas as pd\n",
    "import re\n",
    "import numpy as np\n",
    "from datascience import *\n",
    "import urllib\n",
    "from selenium import webdriver\n",
    "from time import sleep\n",
    "import requests\n",
    "from bs4 import BeautifulSoup as Soup\n",
    "import os"
   ]
  },
  {
   "cell_type": "markdown",
   "metadata": {},
   "source": [
    "## Initialize DataScience Tables"
   ]
  },
  {
   "cell_type": "code",
   "execution_count": null,
   "metadata": {
    "collapsed": true
   },
   "outputs": [],
   "source": [
    "#Speech Table\n",
    "speeches = Table().with_columns(\"speech_id\", make_array(), \n",
    "                                \"speaker_id\", make_array(), \n",
    "                                \"proceeding_id\", make_array(), \n",
    "                                \"topic_id\", make_array(), \n",
    "                                \"word_count\", make_array(), \n",
    "                                \"speech_text\", make_array(),\n",
    "                                'file_name', make_array())"
   ]
  },
  {
   "cell_type": "code",
   "execution_count": null,
   "metadata": {},
   "outputs": [],
   "source": [
    "speeches"
   ]
  },
  {
   "cell_type": "code",
   "execution_count": null,
   "metadata": {
    "collapsed": true
   },
   "outputs": [],
   "source": [
    "#Speaker Table\n",
    "speakers = Table().with_columns(\"speaker_id\", make_array(), \n",
    "                                \"first_name\", make_array(), \n",
    "                                \"last_name\", make_array(), \n",
    "                                \"type\" , make_array(),\n",
    "                                \"party\", make_array(), \n",
    "                                \"state\", make_array(), \n",
    "                                \"district\", make_array(),\n",
    "                                \"bio_guide_id\", make_array(),\n",
    "                                \"congress_id\", make_array())"
   ]
  },
  {
   "cell_type": "code",
   "execution_count": null,
   "metadata": {},
   "outputs": [],
   "source": [
    "speakers"
   ]
  },
  {
   "cell_type": "code",
   "execution_count": null,
   "metadata": {
    "collapsed": true
   },
   "outputs": [],
   "source": [
    "topics = Table().with_columns(\"topic_id\", make_array(), \n",
    "                                \"topic_name\", make_array())"
   ]
  },
  {
   "cell_type": "code",
   "execution_count": null,
   "metadata": {},
   "outputs": [],
   "source": [
    "topics"
   ]
  },
  {
   "cell_type": "code",
   "execution_count": null,
   "metadata": {
    "collapsed": true
   },
   "outputs": [],
   "source": [
    "#Proceedings Table\n",
    "proceedings = Table().with_columns(\"proceeding_id\", make_array(), \n",
    "                              \"date\", make_array(),\n",
    "                              \"title\", make_array())"
   ]
  },
  {
   "cell_type": "code",
   "execution_count": null,
   "metadata": {},
   "outputs": [],
   "source": [
    "proceedings"
   ]
  },
  {
   "cell_type": "markdown",
   "metadata": {
    "collapsed": true
   },
   "source": [
    "## Initializing Parsing"
   ]
  },
  {
   "cell_type": "markdown",
   "metadata": {},
   "source": [
    "### Text Parsing"
   ]
  },
  {
   "cell_type": "code",
   "execution_count": null,
   "metadata": {
    "collapsed": true
   },
   "outputs": [],
   "source": [
    "def remove_space(regex):\n",
    "    return regex.group().replace(' ', '')"
   ]
  },
  {
   "cell_type": "code",
   "execution_count": null,
   "metadata": {
    "collapsed": true
   },
   "outputs": [],
   "source": [
    "def sep_speech(string):\n",
    "    parse_file = ''\n",
    "    with open(string) as file:\n",
    "        for line in file:\n",
    "            parse_file += line\n",
    "    parse_file = parse_file.replace('\\n', '')\n",
    "#     parse_file = parse_file.replace('Mr. President', 'MrPresident')\n",
    "#     parse_file = parse_file.replace('Mr. Short', 'Mr.Short')\n",
    "    parse_file = re.sub('Mr. [A-Z][a-z]', remove_space, parse_file)\n",
    "    \n",
    "    split = re.split(r'Mr. |Ms. |Mrs. ', parse_file)\n",
    "    split.pop(0)\n",
    "    name_and_speech = make_array()\n",
    "    for i in np.arange(len(split)):\n",
    "        try:\n",
    "            lastname = re.match('[A-Z]*\\. ', split[i]).group(0)[:-2]\n",
    "            name_and_speech = np.append(name_and_speech, lastname)\n",
    "            value = re.sub('[A-Z]\\w*\\. ', '', split[i])\n",
    "            name_and_speech = np.append(name_and_speech, value)\n",
    "        except:\n",
    "            abcabcabc = 1\n",
    "    return name_and_speech"
   ]
  },
  {
   "cell_type": "code",
   "execution_count": null,
   "metadata": {
    "collapsed": true
   },
   "outputs": [],
   "source": [
    "def sep_date_from_file(file):\n",
    "    abcdef = re.findall('[0-9]{4}-[0-9]{2}-[0-9]{2}', file)\n",
    "    return re.split('-', abcdef[0])"
   ]
  },
  {
   "cell_type": "code",
   "execution_count": null,
   "metadata": {
    "collapsed": true
   },
   "outputs": [],
   "source": [
    "def find_title(file_name):\n",
    "    parse_file = ''\n",
    "    with open(file_name) as file:\n",
    "        for line in file:\n",
    "            parse_file += line\n",
    "    parse_file = parse_file.replace('Mr. President', 'MrPresident')\n",
    "    title = re.findall('[A-Z \\'-]+[A-Z0-9-,\\. ]*[Continued]*\\\\n', parse_file)\n",
    "    return title[0].strip()"
   ]
  },
  {
   "cell_type": "markdown",
   "metadata": {},
   "source": [
    "### Mods Parsing"
   ]
  },
  {
   "cell_type": "code",
   "execution_count": null,
   "metadata": {
    "collapsed": true
   },
   "outputs": [],
   "source": [
    "def getAllExtensions(file):\n",
    "    handler = open(file).read()\n",
    "    soup = Soup(handler, \"lxml\")\n",
    "    return soup.find_all('extension')"
   ]
  },
  {
   "cell_type": "code",
   "execution_count": null,
   "metadata": {
    "collapsed": true
   },
   "outputs": [],
   "source": [
    "master_extensions = getAllExtensions(\"mastermods.xml\")"
   ]
  },
  {
   "cell_type": "code",
   "execution_count": null,
   "metadata": {
    "collapsed": true
   },
   "outputs": [],
   "source": [
    "def getCongMemberExtension(extensions, last_name):\n",
    "    for extension in extensions:\n",
    "        ext = str(extension)\n",
    "        if last_name in ext:\n",
    "            return extension"
   ]
  },
  {
   "cell_type": "code",
   "execution_count": null,
   "metadata": {
    "collapsed": true
   },
   "outputs": [],
   "source": [
    "def getCongMemberExtensionFromFile(last_name, filename):\n",
    "    handler = open(filename).read()\n",
    "    soup = Soup(handler, \"lxml\")\n",
    "    extensions = soup.find_all('extension')\n",
    "    for extension in extensions:\n",
    "        ext = str(extension)\n",
    "        if last_name in ext:\n",
    "            return extension"
   ]
  },
  {
   "cell_type": "code",
   "execution_count": null,
   "metadata": {
    "collapsed": true
   },
   "outputs": [],
   "source": [
    "def getCongMemberTag(congMemberExtension):\n",
    "    contents = congMemberExtension.contents\n",
    "    for tag in contents:\n",
    "        tag_str = str(tag)\n",
    "        if 'congmember' in tag_str:\n",
    "            return tag"
   ]
  },
  {
   "cell_type": "code",
   "execution_count": null,
   "metadata": {
    "collapsed": true
   },
   "outputs": [],
   "source": [
    "def getParty(congMemberTag):\n",
    "    return congMemberTag.attrs['party']\n",
    "def getType(congMemberTag):\n",
    "    return congMemberTag.attrs['type']\n",
    "def getAuthorityId(congMemberTag):\n",
    "    return congMemberTag.attrs['authorityid']\n",
    "def getBioGuideId(congMemberTag):\n",
    "    return congMemberTag.attrs['bioguideid']\n",
    "def getState(congMemberTag):\n",
    "    return congMemberTag.attrs['state']\n",
    "def getCongressId(congMemberTag):\n",
    "    return congMemberTag.attrs['congress']"
   ]
  },
  {
   "cell_type": "code",
   "execution_count": null,
   "metadata": {
    "collapsed": true
   },
   "outputs": [],
   "source": [
    "def getDistrictTag(congMemberExtension):\n",
    "    contents = congMemberExtension.contents\n",
    "    for tag in contents:\n",
    "        tag_str = str(tag)\n",
    "        if 'district' in tag_str:\n",
    "            return tag"
   ]
  },
  {
   "cell_type": "code",
   "execution_count": null,
   "metadata": {
    "collapsed": true
   },
   "outputs": [],
   "source": [
    "def getFirstName(congMemberTag):\n",
    "    contents = congMemberTag.contents\n",
    "    name_tags = []\n",
    "    for tag in contents:\n",
    "        tag_str = str(tag)\n",
    "        if 'name' in tag_str:\n",
    "            name_tags += [tag]\n",
    "    try:\n",
    "        first_name = name_tags[1].string.split()[0]\n",
    "    except:\n",
    "        first_name = None\n",
    "    return first_name"
   ]
  },
  {
   "cell_type": "code",
   "execution_count": null,
   "metadata": {
    "collapsed": true
   },
   "outputs": [],
   "source": [
    "def getCongMemberInfoFromMaster(last_name, mods_filename):\n",
    "    info = make_array()\n",
    "    if last_name == 'BORDALLO' or last_name == 'CAPITO':\n",
    "        return getCongMemberInfoFromLocal(last_name, mods_filename)\n",
    "    try:\n",
    "        extension = getCongMemberExtension(master_extensions, last_name)\n",
    "        if extension is None:\n",
    "            return getCongMemberInfoFromLocal(last_name, mods_filename)\n",
    "        congMemberTag = getCongMemberTag(extension)\n",
    "    except:\n",
    "        return getCongMemberInfoFromLocal(last_name, mods_filename)\n",
    "    \n",
    "    \n",
    "    \n",
    "    congMemType = getType(congMemberTag)\n",
    "    district = 'N/A'\n",
    "    if congMemType == 'DELEGATE':\n",
    "        try:\n",
    "            info = getcongMemberInfoFromLocal(last_name, mods_filename)\n",
    "        except:\n",
    "            info = [99999999999999, 'First Name unavailable', last_name, congMemType, 'Party Info Unavailable','state info unavailable', district, 'BioGuideID unavailable', 'CongressID unavailable']\n",
    "    else:\n",
    "        if congMemType == 'REPRESENTATIVE':\n",
    "            try:\n",
    "                district_tag = getDistrictTag(extension)\n",
    "                district = district_tag.string\n",
    "            except:\n",
    "                district = 'N/A'\n",
    "    try:\n",
    "        bioGuideID = getBioGuideId(congMemberTag)\n",
    "    except:\n",
    "        bioGuideID = 99999999999999999\n",
    "    info = [getAuthorityId(congMemberTag), getFirstName(congMemberTag), last_name, congMemType, getParty(congMemberTag), getState(congMemberTag), district, bioGuideID, getCongressId(congMemberTag) ]\n",
    "        \n",
    "    return info"
   ]
  },
  {
   "cell_type": "code",
   "execution_count": null,
   "metadata": {
    "collapsed": true
   },
   "outputs": [],
   "source": [
    "def getChamber(congMemberTag):\n",
    "    return congMemberTag.attrs['chamber']"
   ]
  },
  {
   "cell_type": "code",
   "execution_count": null,
   "metadata": {
    "collapsed": true
   },
   "outputs": [],
   "source": [
    "def getCongMemberInfoFromLocal(last_name, mods_filename):\n",
    "    print('checking local file')\n",
    "    extension = getCongMemberExtensionFromFile(last_name, mods_filename)\n",
    "    info = make_array()\n",
    "    congMemberTag = getCongMemberTag(extension)\n",
    "    \n",
    "    congMemChamber = getChamber(congMemberTag)\n",
    "    congMemType = 'N/A'\n",
    "    if congMemChamber == 'H':\n",
    "        congMemType = 'REPRESENTATIVE'\n",
    "    elif congMemChamber == 'S':\n",
    "        congMemType = \"SENATOR\"\n",
    "    \n",
    "    district = 'N/A'\n",
    "    if congMemType == 'REPRESENTATIVE':\n",
    "        try:\n",
    "            district_tag = getDistrictTag(extension)\n",
    "            district = district_tag.string\n",
    "        except:\n",
    "            district = 'N/A'\n",
    "            \n",
    "#     info = np.append(info, getAuthorityId(congMemberTag))\n",
    "#     info = np.append(info, getFirstName(congMemberTag))\n",
    "#     info = np.append(info, last_name)\n",
    "#     info = np.append(info, congMemType)\n",
    "#     info = np.append(info, getParty(congMemberTag))\n",
    "#     info = np.append(info, getState(congMemberTag))\n",
    "#     info = np.append(info, district)\n",
    "#     info = np.append(info, getBioGuideId(congMemberTag))\n",
    "#     info = np.append(info, getCongressId(congMemberTag))\n",
    "    try:\n",
    "        authID = getAuthorityId(congMemberTag)\n",
    "    except:\n",
    "        authID = 99999999999999\n",
    "    try:\n",
    "        party = getParty(congMemberTag)\n",
    "    except:\n",
    "        party = 'Party information Unavailable'\n",
    "    try:\n",
    "        state = getState(congMemberTag)\n",
    "    except:\n",
    "        state = 'State Info Unavailable'\n",
    "    try:\n",
    "        bioID = getBioGuideId(congMemberTag)\n",
    "    except:\n",
    "        bioID = 9999999999999999\n",
    "    info = [authID, getFirstName(congMemberTag), last_name, congMemType, party, state, district, bioID, getCongressId(congMemberTag) ]\n",
    "    return info"
   ]
  },
  {
   "cell_type": "markdown",
   "metadata": {},
   "source": [
    "## Parsing"
   ]
  },
  {
   "cell_type": "code",
   "execution_count": null,
   "metadata": {
    "collapsed": true
   },
   "outputs": [],
   "source": [
    "def divide_chunks(l, n):\n",
    "     \n",
    "    # looping till length l\n",
    "    for i in range(0, len(l), n): \n",
    "        yield l[i:i + n]"
   ]
  },
  {
   "cell_type": "code",
   "execution_count": null,
   "metadata": {
    "scrolled": true
   },
   "outputs": [],
   "source": [
    "#Populate the Speech Table\n",
    "count = 0\n",
    "list_of_files = os.listdir(\"/Users/cun-yuwang/Desktop/scraped/scrape10\")\n",
    "\n",
    "for file in list_of_files:\n",
    "    if file.endswith(\".txt\"):\n",
    "        separated = sep_speech(file)\n",
    "        i = 0\n",
    "        while i < len(separated):\n",
    "            row = make_array()\n",
    "            text = separated[i+1]\n",
    "            text = text.replace('MrPresident', 'Mr. President')\n",
    "            if len(text) > 30:\n",
    "                row = [count, separated[i], 'proceeding_id', 'topic-id', len(text.split()), text, file] \n",
    "                count += 1\n",
    "                speeches = speeches.with_row(row)     \n",
    "            i +=2\n",
    "        count+= 1\n",
    "        print('finished with file ', count)"
   ]
  },
  {
   "cell_type": "code",
   "execution_count": null,
   "metadata": {},
   "outputs": [],
   "source": [
    "speeches"
   ]
  },
  {
   "cell_type": "code",
   "execution_count": null,
   "metadata": {
    "collapsed": true
   },
   "outputs": [],
   "source": [
    "speeches.where('speaker_id', are.equal_to('BORDALLO'))"
   ]
  },
  {
   "cell_type": "code",
   "execution_count": null,
   "metadata": {
    "collapsed": true
   },
   "outputs": [],
   "source": [
    "#create dictionairy of unique last names to files\n",
    "distinct_lastname_table = speeches.group('speaker_id')\n",
    "lastname_file_table = speeches.join('speaker_id', distinct_lastname_table, 'speaker_id')\n",
    "lastname_file_table = lastname_file_table.drop('count').drop('speech_id').drop('proceeding_id').drop('topic_id').drop('word_count').drop('speech_text')\n",
    "name_to_xml = {}\n",
    "lastnames = lastname_file_table.column(0)\n",
    "files = lastname_file_table.column(1)\n",
    "count = 0\n",
    "while count < len(lastnames):\n",
    "    name_to_xml[lastnames[count]] = files[count].replace('.txt', '.xml')\n",
    "    count += 1"
   ]
  },
  {
   "cell_type": "code",
   "execution_count": null,
   "metadata": {
    "collapsed": true
   },
   "outputs": [],
   "source": [
    "#Populate Speaker Table\n",
    "\n",
    "for name in list(name_to_xml.keys()):\n",
    "    print(name)\n",
    "    row = getCongMemberInfoFromMaster(name, name_to_xml[name])\n",
    "    speakers = speakers.with_row(row)\n",
    "speakers.show(5)\n",
    "speeches.show(5)"
   ]
  },
  {
   "cell_type": "code",
   "execution_count": null,
   "metadata": {
    "collapsed": true
   },
   "outputs": [],
   "source": [
    "#populating speaker_id column of the speeches table.\n",
    "# newcol = make_array()\n",
    "# names = speeches.column('speaker_id')\n",
    "# for i in np.arange(len(names)):\n",
    "#     newcol = np.append(speakers.where('last_name', are.equal_to(names[i])).column('speaker_id').item(0), newcol)\n",
    "# copy_speeches = speeches.with_column('num_speaker_id', newcol)\n",
    "# copy_speeches.show(20)"
   ]
  },
  {
   "cell_type": "code",
   "execution_count": null,
   "metadata": {
    "collapsed": true
   },
   "outputs": [],
   "source": [
    "names = speakers.column('last_name')\n",
    "ids = speakers.column('speaker_id')\n",
    "name_to_id = dict(zip(names, ids))\n",
    "name_to_id['CAPITO'] = 1676"
   ]
  },
  {
   "cell_type": "code",
   "execution_count": null,
   "metadata": {
    "collapsed": true
   },
   "outputs": [],
   "source": [
    "newcol = make_array()\n",
    "for name in speeches.sort('speaker_id').column('speaker_id'):\n",
    "    newcol = np.append(name_to_id[name], newcol)\n",
    "speeches = speeches.sort('speaker_id').drop('speaker_id').with_column('speaker_id', np.flip(newcol, 0))"
   ]
  },
  {
   "cell_type": "code",
   "execution_count": null,
   "metadata": {
    "collapsed": true
   },
   "outputs": [],
   "source": []
  },
  {
   "cell_type": "code",
   "execution_count": null,
   "metadata": {
    "collapsed": true
   },
   "outputs": [],
   "source": [
    "title_column = make_array()\n",
    "year_column = make_array()\n",
    "month_column = make_array()\n",
    "day_column = make_array()\n",
    "for file_name in speeches.column('file_name'):\n",
    "    title_column = np.append(find_title(file_name), title_column)\n",
    "    year, month, day = sep_date_from_file(file_name)\n",
    "    year_column = np.append(int(year), year_column)\n",
    "    month_column = np.append(int(month), month_column)\n",
    "    day_column = np.append(int(day), day_column)\n",
    "\n",
    "    title_column = np.flip(title_column, 0)\n",
    "year_column = np.flip(year_column, 0)\n",
    "mont_column = np.flip(month_column, 0)\n",
    "day_column = np.flip(day_column, 0)\n"
   ]
  },
  {
   "cell_type": "code",
   "execution_count": null,
   "metadata": {
    "collapsed": true
   },
   "outputs": [],
   "source": [
    "speeches = speeches.drop('proceeding_id')\n",
    "speeches = speeches.with_columns('session_title', title_column, 'year', year_column, 'month', month_column, 'day', day_column)"
   ]
  },
  {
   "cell_type": "code",
   "execution_count": null,
   "metadata": {
    "collapsed": true
   },
   "outputs": [],
   "source": [
    "speeches"
   ]
  },
  {
   "cell_type": "code",
   "execution_count": null,
   "metadata": {
    "collapsed": true
   },
   "outputs": [],
   "source": [
    "month_int_name = {1: 'January', 2: 'February', 3: 'March', 4: 'April', 5: 'May', 6: 'June', 7: 'July', 8: 'August', 9: 'September', \n",
    "                 10: 'October', 11: 'November', 12: 'December'}\n",
    "new_month = make_array()\n",
    "for month in speeches.column('month'):\n",
    "    new_month = np.append(month_int_name[month], new_month)\n",
    "new_month = np.flip(new_month, 0)\n",
    "new_month\n",
    "speeches = speeches.drop('month').with_column('month', new_month)\n",
    "    "
   ]
  },
  {
   "cell_type": "code",
   "execution_count": null,
   "metadata": {
    "collapsed": true
   },
   "outputs": [],
   "source": [
    "speeches.to_csv('small_data_speeches.csv')"
   ]
  },
  {
   "cell_type": "code",
   "execution_count": null,
   "metadata": {
    "collapsed": true
   },
   "outputs": [],
   "source": []
  }
 ],
 "metadata": {
  "kernelspec": {
   "display_name": "Python 3",
   "language": "python",
   "name": "python3"
  },
  "language_info": {
   "codemirror_mode": {
    "name": "ipython",
    "version": 3
   },
   "file_extension": ".py",
   "mimetype": "text/x-python",
   "name": "python",
   "nbconvert_exporter": "python",
   "pygments_lexer": "ipython3",
   "version": "3.6.1"
  }
 },
 "nbformat": 4,
 "nbformat_minor": 2
}
