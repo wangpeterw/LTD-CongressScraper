{
 "cells": [
  {
   "cell_type": "code",
   "execution_count": 1,
   "metadata": {
    "collapsed": true
   },
   "outputs": [],
   "source": [
    "import pandas\n",
    "import urllib\n",
    "from selenium import webdriver\n",
    "import numpy as np\n",
    "from time import sleep\n",
    "import requests\n",
    "from bs4 import BeautifulSoup\n",
    "import re"
   ]
  },
  {
   "cell_type": "code",
   "execution_count": 2,
   "metadata": {
    "collapsed": true
   },
   "outputs": [],
   "source": [
    "gpo=webdriver.Chrome()\n",
    "gpo.get('https://www.gpo.gov/fdsys/browse/collection.action?collectionCode=CREC')\n"
   ]
  },
  {
   "cell_type": "code",
   "execution_count": 3,
   "metadata": {
    "collapsed": true
   },
   "outputs": [],
   "source": [
    "def extract_text(gpo):\n",
    "    handles = list(gpo.window_handles)\n",
    "    assert len(handles) > 1\n",
    "    gpo.switch_to_window(handles[1])\n",
    "    extracted_stuff = extract_text_from_url(gpo.current_url)\n",
    "    \n",
    "    ## create a file in local repository\n",
    "    file_name = create_text_file_name(gpo.current_url)\n",
    "    file = open(file_name,'w')\n",
    "    file.write(extracted_stuff)\n",
    "    file.close()\n",
    "    \n",
    "    gpo.close()\n",
    "    return file_name\n",
    "    "
   ]
  },
  {
   "cell_type": "code",
   "execution_count": 4,
   "metadata": {
    "collapsed": true
   },
   "outputs": [],
   "source": [
    "def extract_mods(gpo, txt_file_name):\n",
    "    handles = list(gpo.window_handles)\n",
    "    assert len(handles) > 1\n",
    "    gpo.switch_to_window(handles[1])\n",
    "    \n",
    "    mods_url = gpo.current_url\n",
    "    sleep(1)\n",
    "    extracted_stuff = extract_mods_from_url(mods_url)\n",
    "    \n",
    "    ## create a file in local repository\n",
    "    file_name = txt_file_name[0:-3] + 'xml'\n",
    "    file = open(file_name, 'w')\n",
    "    file.write(extracted_stuff)\n",
    "    file.close()\n",
    "    \n",
    "    gpo.close()"
   ]
  },
  {
   "cell_type": "code",
   "execution_count": 5,
   "metadata": {
    "collapsed": true
   },
   "outputs": [],
   "source": [
    "def create_text_file_name(url):\n",
    "    pattern = '(?<=html/).*'\n",
    "    name = re.findall(pattern, url)\n",
    "    return name[0][:-3] + 'txt' "
   ]
  },
  {
   "cell_type": "code",
   "execution_count": 6,
   "metadata": {
    "collapsed": true
   },
   "outputs": [],
   "source": [
    "def extract_mods_from_url(url):\n",
    "    stuff = requests.get(url)\n",
    "    stuff_parsed = BeautifulSoup(stuff.content, 'xml')\n",
    "    return str(stuff_parsed.find_all('mods')[0])"
   ]
  },
  {
   "cell_type": "code",
   "execution_count": 7,
   "metadata": {
    "collapsed": true
   },
   "outputs": [],
   "source": [
    "def extract_text_from_url(url):\n",
    "    stuff = requests.get(url)\n",
    "    stuff_parsed = BeautifulSoup(stuff.content, \"html\")\n",
    "    return stuff_parsed.get_text()"
   ]
  },
  {
   "cell_type": "code",
   "execution_count": 8,
   "metadata": {},
   "outputs": [
    {
     "name": "stderr",
     "output_type": "stream",
     "text": [
      "/Users/halliday/anaconda3/lib/python3.6/site-packages/bs4/__init__.py:181: UserWarning: No parser was explicitly specified, so I'm using the best available HTML parser for this system (\"lxml\"). This usually isn't a problem, but if you run this code on another system, or in a different virtual environment, it may use a different parser and behave differently.\n",
      "\n",
      "The code that caused this warning is on line 193 of the file /Users/halliday/anaconda3/lib/python3.6/runpy.py. To get rid of this warning, change code that looks like this:\n",
      "\n",
      " BeautifulSoup(YOUR_MARKUP})\n",
      "\n",
      "to this:\n",
      "\n",
      " BeautifulSoup(YOUR_MARKUP, \"lxml\")\n",
      "\n",
      "  markup_type=markup_type))\n"
     ]
    },
    {
     "name": "stdout",
     "output_type": "stream",
     "text": [
      "16 Did not find senate\n"
     ]
    },
    {
     "ename": "NoSuchWindowException",
     "evalue": "Message: no such window: target window already closed\nfrom unknown error: web view not found\n  (Session info: chrome=65.0.3325.162)\n  (Driver info: chromedriver=2.35.528157 (4429ca2590d6988c0745c24c8858745aaaec01ef),platform=Mac OS X 10.13.3 x86_64)\n",
     "output_type": "error",
     "traceback": [
      "\u001b[0;31m---------------------------------------------------------------------------\u001b[0m",
      "\u001b[0;31mNoSuchWindowException\u001b[0m                     Traceback (most recent call last)",
      "\u001b[0;32m<ipython-input-8-dffb83173b27>\u001b[0m in \u001b[0;36m<module>\u001b[0;34m()\u001b[0m\n\u001b[1;32m     81\u001b[0m \u001b[0;34m\u001b[0m\u001b[0m\n\u001b[1;32m     82\u001b[0m             \u001b[0;31m#break\u001b[0m\u001b[0;34m\u001b[0m\u001b[0;34m\u001b[0m\u001b[0m\n\u001b[0;32m---> 83\u001b[0;31m             \u001b[0mgpo\u001b[0m\u001b[0;34m.\u001b[0m\u001b[0mback\u001b[0m\u001b[0;34m(\u001b[0m\u001b[0;34m)\u001b[0m\u001b[0;34m\u001b[0m\u001b[0m\n\u001b[0m\u001b[1;32m     84\u001b[0m         \u001b[0;31m#break\u001b[0m\u001b[0;34m\u001b[0m\u001b[0;34m\u001b[0m\u001b[0m\n\u001b[1;32m     85\u001b[0m         \u001b[0mgpo\u001b[0m\u001b[0;34m.\u001b[0m\u001b[0mback\u001b[0m\u001b[0;34m(\u001b[0m\u001b[0;34m)\u001b[0m\u001b[0;34m\u001b[0m\u001b[0m\n",
      "\u001b[0;32m~/anaconda3/lib/python3.6/site-packages/selenium/webdriver/remote/webdriver.py\u001b[0m in \u001b[0;36mback\u001b[0;34m(self)\u001b[0m\n\u001b[1;32m    795\u001b[0m             \u001b[0mdriver\u001b[0m\u001b[0;34m.\u001b[0m\u001b[0mback\u001b[0m\u001b[0;34m(\u001b[0m\u001b[0;34m)\u001b[0m\u001b[0;34m\u001b[0m\u001b[0m\n\u001b[1;32m    796\u001b[0m         \"\"\"\n\u001b[0;32m--> 797\u001b[0;31m         \u001b[0mself\u001b[0m\u001b[0;34m.\u001b[0m\u001b[0mexecute\u001b[0m\u001b[0;34m(\u001b[0m\u001b[0mCommand\u001b[0m\u001b[0;34m.\u001b[0m\u001b[0mGO_BACK\u001b[0m\u001b[0;34m)\u001b[0m\u001b[0;34m\u001b[0m\u001b[0m\n\u001b[0m\u001b[1;32m    798\u001b[0m \u001b[0;34m\u001b[0m\u001b[0m\n\u001b[1;32m    799\u001b[0m     \u001b[0;32mdef\u001b[0m \u001b[0mforward\u001b[0m\u001b[0;34m(\u001b[0m\u001b[0mself\u001b[0m\u001b[0;34m)\u001b[0m\u001b[0;34m:\u001b[0m\u001b[0;34m\u001b[0m\u001b[0m\n",
      "\u001b[0;32m~/anaconda3/lib/python3.6/site-packages/selenium/webdriver/remote/webdriver.py\u001b[0m in \u001b[0;36mexecute\u001b[0;34m(self, driver_command, params)\u001b[0m\n\u001b[1;32m    310\u001b[0m         \u001b[0mresponse\u001b[0m \u001b[0;34m=\u001b[0m \u001b[0mself\u001b[0m\u001b[0;34m.\u001b[0m\u001b[0mcommand_executor\u001b[0m\u001b[0;34m.\u001b[0m\u001b[0mexecute\u001b[0m\u001b[0;34m(\u001b[0m\u001b[0mdriver_command\u001b[0m\u001b[0;34m,\u001b[0m \u001b[0mparams\u001b[0m\u001b[0;34m)\u001b[0m\u001b[0;34m\u001b[0m\u001b[0m\n\u001b[1;32m    311\u001b[0m         \u001b[0;32mif\u001b[0m \u001b[0mresponse\u001b[0m\u001b[0;34m:\u001b[0m\u001b[0;34m\u001b[0m\u001b[0m\n\u001b[0;32m--> 312\u001b[0;31m             \u001b[0mself\u001b[0m\u001b[0;34m.\u001b[0m\u001b[0merror_handler\u001b[0m\u001b[0;34m.\u001b[0m\u001b[0mcheck_response\u001b[0m\u001b[0;34m(\u001b[0m\u001b[0mresponse\u001b[0m\u001b[0;34m)\u001b[0m\u001b[0;34m\u001b[0m\u001b[0m\n\u001b[0m\u001b[1;32m    313\u001b[0m             response['value'] = self._unwrap_value(\n\u001b[1;32m    314\u001b[0m                 response.get('value', None))\n",
      "\u001b[0;32m~/anaconda3/lib/python3.6/site-packages/selenium/webdriver/remote/errorhandler.py\u001b[0m in \u001b[0;36mcheck_response\u001b[0;34m(self, response)\u001b[0m\n\u001b[1;32m    240\u001b[0m                 \u001b[0malert_text\u001b[0m \u001b[0;34m=\u001b[0m \u001b[0mvalue\u001b[0m\u001b[0;34m[\u001b[0m\u001b[0;34m'alert'\u001b[0m\u001b[0;34m]\u001b[0m\u001b[0;34m.\u001b[0m\u001b[0mget\u001b[0m\u001b[0;34m(\u001b[0m\u001b[0;34m'text'\u001b[0m\u001b[0;34m)\u001b[0m\u001b[0;34m\u001b[0m\u001b[0m\n\u001b[1;32m    241\u001b[0m             \u001b[0;32mraise\u001b[0m \u001b[0mexception_class\u001b[0m\u001b[0;34m(\u001b[0m\u001b[0mmessage\u001b[0m\u001b[0;34m,\u001b[0m \u001b[0mscreen\u001b[0m\u001b[0;34m,\u001b[0m \u001b[0mstacktrace\u001b[0m\u001b[0;34m,\u001b[0m \u001b[0malert_text\u001b[0m\u001b[0;34m)\u001b[0m\u001b[0;34m\u001b[0m\u001b[0m\n\u001b[0;32m--> 242\u001b[0;31m         \u001b[0;32mraise\u001b[0m \u001b[0mexception_class\u001b[0m\u001b[0;34m(\u001b[0m\u001b[0mmessage\u001b[0m\u001b[0;34m,\u001b[0m \u001b[0mscreen\u001b[0m\u001b[0;34m,\u001b[0m \u001b[0mstacktrace\u001b[0m\u001b[0;34m)\u001b[0m\u001b[0;34m\u001b[0m\u001b[0m\n\u001b[0m\u001b[1;32m    243\u001b[0m \u001b[0;34m\u001b[0m\u001b[0m\n\u001b[1;32m    244\u001b[0m     \u001b[0;32mdef\u001b[0m \u001b[0m_value_or_default\u001b[0m\u001b[0;34m(\u001b[0m\u001b[0mself\u001b[0m\u001b[0;34m,\u001b[0m \u001b[0mobj\u001b[0m\u001b[0;34m,\u001b[0m \u001b[0mkey\u001b[0m\u001b[0;34m,\u001b[0m \u001b[0mdefault\u001b[0m\u001b[0;34m)\u001b[0m\u001b[0;34m:\u001b[0m\u001b[0;34m\u001b[0m\u001b[0m\n",
      "\u001b[0;31mNoSuchWindowException\u001b[0m: Message: no such window: target window already closed\nfrom unknown error: web view not found\n  (Session info: chrome=65.0.3325.162)\n  (Driver info: chromedriver=2.35.528157 (4429ca2590d6988c0745c24c8858745aaaec01ef),platform=Mac OS X 10.13.3 x86_64)\n"
     ]
    }
   ],
   "source": [
    "year = gpo.find_elements_by_xpath(\".//div[@class='level1 browse-level']/a\")\n",
    "for i in np.arange(len(year)):\n",
    "    time_y = i\n",
    "    year = gpo.find_elements_by_xpath(\".//div[@class='level1 browse-level']/a\")\n",
    "    year[i].click()\n",
    "    month = gpo.find_elements_by_xpath(\".//div[@class='level2 browse-level']/a\")\n",
    "    for i in np.arange(len(month)):\n",
    "        time_m = i\n",
    "        month = gpo.find_elements_by_xpath(\".//div[@class='level2 browse-level']/a\")\n",
    "        month[i].click()\n",
    "        day = gpo.find_elements_by_xpath(\".//div[@class='level3 browse-level']/a\")\n",
    "        for i in np.arange(len(day)):\n",
    "            time_d = i\n",
    "            day = gpo.find_elements_by_xpath(\".//div[@class='level3 browse-level']/a\")\n",
    "            day[i].click()\n",
    "            try: \n",
    "                house = gpo.find_element_by_partial_link_text('House')\n",
    "                house.click()\n",
    "                house_more = gpo.find_elements_by_partial_link_text('More')\n",
    "                house_more = house_more[1:]\n",
    "                for i in np.arange(len(house_more)):\n",
    "                    house_more = gpo.find_elements_by_partial_link_text('More')\n",
    "                    house_more = house_more[1:]\n",
    "\n",
    "\n",
    "                    house_more[i].click()\n",
    "                    house_text = gpo.find_element_by_xpath('.//tr/td[3]/div/table[1]/tbody/tr[1]/td[2]/a[1]')\n",
    "                    house_mods = gpo.find_element_by_xpath('.//tr/td[3]/div/table[1]/tbody/tr[2]/td[2]/a')\n",
    "                    default_handle = gpo.current_window_handle\n",
    "                    house_text.click()\n",
    "\n",
    "                    #changing default window & save file, return name\n",
    "                    text_file_name = extract_text(gpo)\n",
    "\n",
    "                    #return to main window\n",
    "                    gpo.switch_to_window(default_handle)\n",
    "\n",
    "\n",
    "                    #go to mods page & save file\n",
    "                    house_mods.click()\n",
    "                    extract_mods(gpo, text_file_name)\n",
    "\n",
    "                    #return to main window\n",
    "                    gpo.switch_to_window(default_handle)\n",
    "                    gpo.back()\n",
    "            except:\n",
    "                print(i, \"Did not find house\")\n",
    "            \n",
    "            try:\n",
    "                senate = gpo.find_element_by_partial_link_text('Senate')\n",
    "                senate.click()\n",
    "                senate_more = gpo.find_elements_by_partial_link_text('More')\n",
    "                senate_more = senate_more[1:]\n",
    "                for i in np.arange(len(senate_more)):\n",
    "                    senate_more = gpo.find_elements_by_partial_link_text('More')\n",
    "                    senate_more = senate_more[1:]\n",
    "\n",
    "\n",
    "                    senate_more[i].click()\n",
    "                    senate_text = gpo.find_element_by_xpath('.//tr/td[3]/div/table[1]/tbody/tr[1]/td[2]/a[1]')\n",
    "                    senate_mods = gpo.find_element_by_xpath('.//tr/td[3]/div/table[1]/tbody/tr[2]/td[2]/a')\n",
    "                    default_handle = gpo.current_window_handle\n",
    "                    senate_text.click()\n",
    "\n",
    "                    #changing default window & save file, return name\n",
    "                    text_file_name = extract_text(gpo)\n",
    "\n",
    "                    #return to main window\n",
    "                    gpo.switch_to_window(default_handle)\n",
    "\n",
    "\n",
    "                    #go to mods page & save file\n",
    "                    senate_mods.click()\n",
    "                    extract_mods(gpo, text_file_name)\n",
    "\n",
    "                    #return to main window\n",
    "                    gpo.switch_to_window(default_handle)\n",
    "                    gpo.back()\n",
    "            except:\n",
    "                print(i, \"Did not find senate\")\n",
    "                \n",
    "            #break\n",
    "            gpo.back()\n",
    "        #break\n",
    "        gpo.back()\n",
    "    #break\n",
    "    gpo.back()"
   ]
  },
  {
   "cell_type": "code",
   "execution_count": null,
   "metadata": {
    "collapsed": true
   },
   "outputs": [],
   "source": []
  },
  {
   "cell_type": "code",
   "execution_count": null,
   "metadata": {
    "collapsed": true
   },
   "outputs": [],
   "source": []
  },
  {
   "cell_type": "code",
   "execution_count": null,
   "metadata": {
    "collapsed": true
   },
   "outputs": [],
   "source": []
  },
  {
   "cell_type": "code",
   "execution_count": null,
   "metadata": {
    "collapsed": true
   },
   "outputs": [],
   "source": []
  }
 ],
 "metadata": {
  "kernelspec": {
   "display_name": "Python 3",
   "language": "python",
   "name": "python3"
  },
  "language_info": {
   "codemirror_mode": {
    "name": "ipython",
    "version": 3
   },
   "file_extension": ".py",
   "mimetype": "text/x-python",
   "name": "python",
   "nbconvert_exporter": "python",
   "pygments_lexer": "ipython3",
   "version": "3.6.3"
  }
 },
 "nbformat": 4,
 "nbformat_minor": 2
}
