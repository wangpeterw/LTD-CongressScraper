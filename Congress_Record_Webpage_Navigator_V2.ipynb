{
 "cells": [
  {
   "cell_type": "code",
   "execution_count": 130,
   "metadata": {
    "collapsed": true
   },
   "outputs": [],
   "source": [
    "import pandas\n",
    "import urllib\n",
    "from selenium import webdriver\n",
    "import numpy as np\n",
    "from time import sleep\n",
    "import requests\n",
    "from bs4 import BeautifulSoup"
   ]
  },
  {
   "cell_type": "code",
   "execution_count": 136,
   "metadata": {
    "collapsed": true
   },
   "outputs": [],
   "source": [
    "gpo=webdriver.Chrome()\n",
    "gpo.get('https://www.gpo.gov/fdsys/browse/collection.action?collectionCode=CREC')\n"
   ]
  },
  {
   "cell_type": "code",
   "execution_count": 137,
   "metadata": {
    "collapsed": true
   },
   "outputs": [],
   "source": [
    "def switch_and_close_return_text(gpo):\n",
    "    handles = list(gpo.window_handles)\n",
    "    assert len(handles) > 1\n",
    "    gpo.switch_to_window(handles[1])\n",
    "    #extract()\n",
    "    extracted_stuff = extract_text_from_url(gpo.current_url)\n",
    "    gpo.close()\n",
    "    return extracted_stuff\n",
    "    "
   ]
  },
  {
   "cell_type": "code",
   "execution_count": 138,
   "metadata": {
    "collapsed": true
   },
   "outputs": [],
   "source": [
    "def switch_and_close_return_mods(gpo):\n",
    "\n",
    "    handles = list(gpo.window_handles)\n",
    "    assert len(handles) > 1\n",
    "    print(handles)\n",
    "    gpo.switch_to_window(handles[1])\n",
    "    print(gpo.current_url)\n",
    "    #extract()\n",
    "    mods_url = gpo.current_url\n",
    "    print(mods_url)\n",
    "    gpo.close()\n",
    "    print(5)\n",
    "    return mods_url"
   ]
  },
  {
   "cell_type": "code",
   "execution_count": 139,
   "metadata": {
    "collapsed": true
   },
   "outputs": [],
   "source": [
    "def extract_text_from_url(url):\n",
    "    stuff = requests.get(url)\n",
    "    stuff_parsed = BeautifulSoup(stuff.content, \"html.parser\")\n",
    "    return stuff_parsed.get_text()"
   ]
  },
  {
   "cell_type": "code",
   "execution_count": 140,
   "metadata": {},
   "outputs": [],
   "source": [
    "file_name = 'congress_text_records.txt'\n",
    "text_mod_pairs = {}\n",
    "count = 0\n",
    "year = gpo.find_elements_by_xpath(\".//div[@class='level1 browse-level']/a\")\n",
    "for i in np.arange(len(year)):\n",
    "    year = gpo.find_elements_by_xpath(\".//div[@class='level1 browse-level']/a\")\n",
    "    year[i].click()\n",
    "    month = gpo.find_elements_by_xpath(\".//div[@class='level2 browse-level']/a\")\n",
    "    for i in np.arange(len(month)):\n",
    "        month = gpo.find_elements_by_xpath(\".//div[@class='level2 browse-level']/a\")\n",
    "        month[i].click()\n",
    "        day = gpo.find_elements_by_xpath(\".//div[@class='level3 browse-level']/a\")\n",
    "        for i in np.arange(len(day)):\n",
    "            day = gpo.find_elements_by_xpath(\".//div[@class='level3 browse-level']/a\")\n",
    "            day[i].click()\n",
    "            try: \n",
    "                house = gpo.find_element_by_partial_link_text('House')\n",
    "            except:\n",
    "                continue\n",
    "\n",
    "            house.click()\n",
    "            house_more = gpo.find_elements_by_partial_link_text('More')\n",
    "            house_more = house_more[1:]\n",
    "            for i in np.arange(len(house_more)):\n",
    "                house_more = gpo.find_elements_by_partial_link_text('More')\n",
    "                house_more = house_more[1:]\n",
    "                \n",
    "                \n",
    "                house_more[i].click()\n",
    "                house_text = gpo.find_element_by_xpath('.//tr/td[3]/div/table[1]/tbody/tr[1]/td[2]/a[1]')\n",
    "                house_mods = gpo.find_element_by_xpath('.//tr/td[3]/div/table[1]/tbody/tr[2]/td[2]/a')\n",
    "                default_handle = gpo.current_window_handle\n",
    "                house_text.click()\n",
    "            \n",
    "            \n",
    "\n",
    "                #changing default window & extract text\n",
    "                extracted_house_text = switch_and_close_return_text(gpo)\n",
    "                #return to main window\n",
    "                gpo.switch_to_window(default_handle)\n",
    "                \n",
    "                \n",
    "                #go to mods page & extract url\n",
    "                #NOT WORKING MODS RIGHT NOW\n",
    "#                 house_mods.click()\n",
    "#                 mods_url = switch_and_close_return_mods(gpo)\n",
    "#                 gpo.switch_to_window(default_handle)\n",
    "                \n",
    "                #add text & mods url in a tuple to dictionary\n",
    "                text_mod_pairs[count] = extracted_house_text\n",
    "                count += 1                \n",
    "                gpo.back()\n",
    "            break\n",
    "            gpo.back()\n",
    "        break\n",
    "        gpo.back()\n",
    "    break\n",
    "    gpo.back()"
   ]
  },
  {
   "cell_type": "code",
   "execution_count": 147,
   "metadata": {},
   "outputs": [
    {
     "data": {
      "text/plain": [
       "'\\n\\nCongressional Record, Volume 163 Issue 215 (Tuesday, January 2, 2018)\\n\\n[Congressional Record Volume 163, Number 215 (Tuesday, January 2, 2018)]\\n[House]\\n[Page H10432]\\nFrom the Congressional Record Online through the Government Publishing Office [www.gpo.gov]\\n\\n\\n\\n\\n                      PUBLIC BILLS AND RESOLUTIONS\\n\\n  Under clause 2 of rule XII,\\n\\n            Ms. JAYAPAL introduced a resolution (H. Res. 674) \\n             honoring the life and legacy of Alan Rabinowitz for \\n             his immeasurable contributions to the city of Seattle \\n             as a leading philanthropist, educator, community \\n             organizer, and public servant; which was referred to \\n             the Committee on Oversight and Government Reform.\\n\\n                          ____________________\\n\\n\\n\\n'"
      ]
     },
     "execution_count": 147,
     "metadata": {},
     "output_type": "execute_result"
    }
   ],
   "source": []
  },
  {
   "cell_type": "code",
   "execution_count": null,
   "metadata": {
    "collapsed": true
   },
   "outputs": [],
   "source": []
  },
  {
   "cell_type": "code",
   "execution_count": null,
   "metadata": {
    "collapsed": true
   },
   "outputs": [],
   "source": []
  }
 ],
 "metadata": {
  "kernelspec": {
   "display_name": "Python 3",
   "language": "python",
   "name": "python3"
  },
  "language_info": {
   "codemirror_mode": {
    "name": "ipython",
    "version": 3
   },
   "file_extension": ".py",
   "mimetype": "text/x-python",
   "name": "python",
   "nbconvert_exporter": "python",
   "pygments_lexer": "ipython3",
   "version": "3.6.3"
  }
 },
 "nbformat": 4,
 "nbformat_minor": 2
}
