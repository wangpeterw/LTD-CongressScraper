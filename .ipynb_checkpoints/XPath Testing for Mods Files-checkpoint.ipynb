{
 "cells": [
  {
   "cell_type": "code",
   "execution_count": 109,
   "metadata": {
    "collapsed": true
   },
   "outputs": [],
   "source": [
    "from bs4 import BeautifulSoup as Soup\n",
    "from datascience import *\n",
    "import numpy as np"
   ]
  },
  {
   "cell_type": "code",
   "execution_count": 110,
   "metadata": {
    "collapsed": true
   },
   "outputs": [],
   "source": [
    "def getAllExtensions(file):\n",
    "    handler = open(file).read()\n",
    "    soup = Soup(handler, \"lxml\")\n",
    "    return soup.find_all('extension')"
   ]
  },
  {
   "cell_type": "code",
   "execution_count": 119,
   "metadata": {
    "collapsed": true
   },
   "outputs": [],
   "source": [
    "master_extensions = getAllExtensions(\"mastermods.xml\")"
   ]
  },
  {
   "cell_type": "code",
   "execution_count": 112,
   "metadata": {
    "collapsed": true
   },
   "outputs": [],
   "source": [
    "def getCongMemberExtension(extensions, last_name):\n",
    "    for extension in extensions:\n",
    "        ext = str(extension)\n",
    "        if last_name in ext:\n",
    "            return extension"
   ]
  },
  {
   "cell_type": "code",
   "execution_count": 113,
   "metadata": {
    "collapsed": true
   },
   "outputs": [],
   "source": [
    "def getCongMemberExtensionFromFile(last_name, filename):\n",
    "    handler = open(filename).read()\n",
    "    soup = Soup(handler, \"lxml\")\n",
    "    extensions = soup.find_all('extension')\n",
    "    for extension in extensions:\n",
    "        ext = str(extension)\n",
    "        if last_name in ext:\n",
    "            return extension"
   ]
  },
  {
   "cell_type": "code",
   "execution_count": 115,
   "metadata": {
    "collapsed": true
   },
   "outputs": [],
   "source": [
    "def getCongMemberTag(congMemberExtension):\n",
    "    contents = congMemberExtension.contents\n",
    "    for tag in contents:\n",
    "        tag_str = str(tag)\n",
    "        if 'congmember' in tag_str:\n",
    "            return tag"
   ]
  },
  {
   "cell_type": "code",
   "execution_count": 118,
   "metadata": {},
   "outputs": [],
   "source": [
    "def getParty(congMemberTag):\n",
    "    return congMemberTag.attrs['party']\n",
    "def getType(congMemberTag):\n",
    "    return congMemberTag.attrs['type']\n",
    "def getAuthorityId(congMemberTag):\n",
    "    return congMemberTag.attrs['authorityid']\n",
    "def getBioGuideId(congMemberTag):\n",
    "    return congMemberTag.attrs['bioguideid']\n",
    "def getState(congMemberTag):\n",
    "    return congMemberTag.attrs['state']\n",
    "def getCongress(congMemberTag):\n",
    "    return congMemberTag.attrs['congress']"
   ]
  },
  {
   "cell_type": "code",
   "execution_count": 77,
   "metadata": {
    "collapsed": true
   },
   "outputs": [],
   "source": [
    "def getDistrictTag(congMemberExtension):\n",
    "    contents = congMemberExtension.contents\n",
    "    for tag in contents:\n",
    "        tag_str = str(tag)\n",
    "        if 'district' in tag_str:\n",
    "            return tag"
   ]
  },
  {
   "cell_type": "code",
   "execution_count": 78,
   "metadata": {
    "collapsed": true
   },
   "outputs": [],
   "source": [
    "def getFirstName(congMemberTag):\n",
    "    contents = congMemberTag.contents\n",
    "    name_tags = []\n",
    "    for tag in contents:\n",
    "        tag_str = str(tag)\n",
    "        if 'name' in tag_str:\n",
    "            name_tags += [tag]\n",
    "    try:\n",
    "        first_name = name_tags[1].string.split()[0]\n",
    "    except:\n",
    "        first_name = None\n",
    "    return first_name"
   ]
  },
  {
   "cell_type": "markdown",
   "metadata": {},
   "source": [
    "Something to consider is completely ignoring delegates altogether??? - avoid collisions and errors that we can't foresee"
   ]
  },
  {
   "cell_type": "markdown",
   "metadata": {},
   "source": [
    "Also edge case - speaker pro tempore (could be handled by finding his/her name before using these mods methods)"
   ]
  },
  {
   "cell_type": "code",
   "execution_count": 125,
   "metadata": {},
   "outputs": [],
   "source": [
    "def getCongMemberInfoFromMaster(last_name, mods_filename):\n",
    "    info = make_array()\n",
    "    \n",
    "    try:\n",
    "        extension = getCongMemberExtension(master_extensions, last_name)\n",
    "        congMemberTag = getCongMemberTag(extension)\n",
    "    except:\n",
    "        return getcongMemberInfoFromLocal(last_name, mods_filename)\n",
    "    \n",
    "    congMemType = getType(congMemberTag)\n",
    "    district = 'N/A'\n",
    "    if congMemType == 'DELEGATE':\n",
    "        info = getcongMemberInfoFromLocal(last_name, mods_filename)\n",
    "    else:\n",
    "        if congMemType == 'REPRESENTATIVE':\n",
    "            try:\n",
    "                district_tag = getDistrictTag(extension)\n",
    "                district = district_tag.string\n",
    "            except:\n",
    "                district = 'N/A'\n",
    "        info = np.append(info, congMemType)\n",
    "        info = np.append(info, district)\n",
    "        info = np.append(info, getAuthorityId(congMemberTag))\n",
    "        info = np.append(info, getBioGuideId(congMemberTag))\n",
    "        info = np.append(info, getParty(congMemberTag))\n",
    "        info = np.append(info, getState(congMemberTag))\n",
    "        info = np.append(info, getFirstName(congMemberTag))\n",
    "        info = np.append(info, last_name)\n",
    "    return info"
   ]
  },
  {
   "cell_type": "code",
   "execution_count": 126,
   "metadata": {},
   "outputs": [
    {
     "data": {
      "text/plain": [
       "array(['REPRESENTATIVE', '27', '985', 'R000435', 'R', 'FL', 'Ileana',\n",
       "       'Ros-Lehtinen'],\n",
       "      dtype='<U32')"
      ]
     },
     "execution_count": 126,
     "metadata": {},
     "output_type": "execute_result"
    }
   ],
   "source": [
    "getCongMemberInfoFromMaster('Ros-Lehtinen', 'test_mods.xml')"
   ]
  },
  {
   "cell_type": "code",
   "execution_count": 127,
   "metadata": {
    "collapsed": true
   },
   "outputs": [],
   "source": [
    "def getChamber(congMemberTag):\n",
    "    return congMemberTag.attrs['chamber']"
   ]
  },
  {
   "cell_type": "code",
   "execution_count": 128,
   "metadata": {},
   "outputs": [],
   "source": [
    "def getCongMemberInfoFromLocal(last_name, mods_filename):\n",
    "    extension = getCongMemberExtensionFromFile(last_name, mods_filename)\n",
    "    info = make_array()\n",
    "    congMemberTag = getCongMemberTag(extension)\n",
    "    \n",
    "    congMemChamber = getChamber(congMemberTag)\n",
    "    congMemType = 'N/A'\n",
    "    if congMemChamber == 'H':\n",
    "        congMemType = 'REPRESENTATIVE'\n",
    "    elif congMemChamber == 'S':\n",
    "        congMemType = \"SENATOR\"\n",
    "    \n",
    "    district = 'N/A'\n",
    "    if congMemType == 'REPRESENTATIVE':\n",
    "        try:\n",
    "            district_tag = getDistrictTag(extension)\n",
    "            district = district_tag.string\n",
    "        except:\n",
    "            district = 'N/A'\n",
    "    \n",
    "    info = np.append(info, congMemType)\n",
    "    info = np.append(info, district)\n",
    "    info = np.append(info, getAuthorityId(congMemberTag))\n",
    "    info = np.append(info, getBioGuideId(congMemberTag))\n",
    "    info = np.append(info, getParty(congMemberTag))\n",
    "    info = np.append(info, getState(congMemberTag))\n",
    "    info = np.append(info, getFirstName(congMemberTag))\n",
    "    info = np.append(info, last_name)\n",
    "    return info"
   ]
  },
  {
   "cell_type": "code",
   "execution_count": 129,
   "metadata": {},
   "outputs": [
    {
     "data": {
      "text/plain": [
       "array(['REPRESENTATIVE', 'N/A', '985', 'R000435', 'R', 'FL', 'Ileana',\n",
       "       'Ros-Lehtinen'],\n",
       "      dtype='<U32')"
      ]
     },
     "execution_count": 129,
     "metadata": {},
     "output_type": "execute_result"
    }
   ],
   "source": [
    "getCongMemberInfoFromLocal('Ros-Lehtinen', 'test_mods.xml')"
   ]
  },
  {
   "cell_type": "code",
   "execution_count": null,
   "metadata": {
    "collapsed": true
   },
   "outputs": [],
   "source": []
  },
  {
   "cell_type": "code",
   "execution_count": null,
   "metadata": {
    "collapsed": true
   },
   "outputs": [],
   "source": []
  },
  {
   "cell_type": "code",
   "execution_count": null,
   "metadata": {
    "collapsed": true
   },
   "outputs": [],
   "source": []
  }
 ],
 "metadata": {
  "kernelspec": {
   "display_name": "Python 3",
   "language": "python",
   "name": "python3"
  },
  "language_info": {
   "codemirror_mode": {
    "name": "ipython",
    "version": 3
   },
   "file_extension": ".py",
   "mimetype": "text/x-python",
   "name": "python",
   "nbconvert_exporter": "python",
   "pygments_lexer": "ipython3",
   "version": "3.6.3"
  }
 },
 "nbformat": 4,
 "nbformat_minor": 2
}
