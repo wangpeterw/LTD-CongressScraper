{
 "cells": [
  {
   "cell_type": "code",
   "execution_count": 1,
   "metadata": {
    "collapsed": true
   },
   "outputs": [],
   "source": [
    "from bs4 import BeautifulSoup"
   ]
  },
  {
   "cell_type": "code",
   "execution_count": 2,
   "metadata": {},
   "outputs": [
    {
     "ename": "SyntaxError",
     "evalue": "invalid syntax (<ipython-input-2-595dde7640f7>, line 8)",
     "output_type": "error",
     "traceback": [
      "\u001b[0;36m  File \u001b[0;32m\"<ipython-input-2-595dde7640f7>\"\u001b[0;36m, line \u001b[0;32m8\u001b[0m\n\u001b[0;31m    print \"%s: %s [%s @ %s]\" % (f_user_dict[u'friendlyname'],\u001b[0m\n\u001b[0m                           ^\u001b[0m\n\u001b[0;31mSyntaxError\u001b[0m\u001b[0;31m:\u001b[0m invalid syntax\n"
     ]
    }
   ],
   "source": [
    "def parseMasterMods(file, last_name):\n",
    "    handler = open(file).read()\n",
    "    soup = Soup(handler)\n",
    "    for message in soup.findAll('message'):\n",
    "        msg_attrs = dict(message.attrs)\n",
    "        f_user = message.find('from').user\n",
    "        f_user_dict = dict(f_user.attrs)\n",
    "        print \"%s: %s [%s @ %s]\" % (f_user_dict[u'friendlyname'],\n",
    "                                    message.find('text').decodeContents(),\n",
    "                                    msg_attrs[u'date'],"
   ]
  },
  {
   "cell_type": "code",
   "execution_count": null,
   "metadata": {
    "collapsed": true
   },
   "outputs": [],
   "source": [
    "parseMasterMods(\"mastermods.xml\", \"Byrne\")"
   ]
  }
 ],
 "metadata": {
  "kernelspec": {
   "display_name": "Python 3",
   "language": "python",
   "name": "python3"
  },
  "language_info": {
   "codemirror_mode": {
    "name": "ipython",
    "version": 3
   },
   "file_extension": ".py",
   "mimetype": "text/x-python",
   "name": "python",
   "nbconvert_exporter": "python",
   "pygments_lexer": "ipython3",
   "version": "3.6.3"
  }
 },
 "nbformat": 4,
 "nbformat_minor": 2
}
