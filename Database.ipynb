{
 "cells": [
  {
   "cell_type": "markdown",
   "metadata": {},
   "source": [
    "# Relational Database Structure for LTD"
   ]
  },
  {
   "cell_type": "code",
   "execution_count": 1,
   "metadata": {
    "collapsed": true
   },
   "outputs": [],
   "source": [
    "from datascience import *\n",
    "import re\n",
    "import numpy as np\n",
    "import os"
   ]
  },
  {
   "cell_type": "markdown",
   "metadata": {},
   "source": [
    "# Seperates Speaker/Speech pairs from file"
   ]
  },
  {
   "cell_type": "code",
   "execution_count": 2,
   "metadata": {
    "collapsed": true
   },
   "outputs": [],
   "source": [
    "def sep_speech(string):\n",
    "    parse_file = ''\n",
    "    with open(string) as file:\n",
    "        for line in file:\n",
    "            parse_file += line\n",
    "    parse_file = parse_file.replace('\\n', '')\n",
    "    parse_file = parse_file.replace('Mr. President', 'MrPresident')\n",
    "    \n",
    "    split = re.split(r'Mr. |Ms. |Mrs. ', parse_file)\n",
    "    split.pop(0)\n",
    "    name_and_speech = make_array()\n",
    "    for i in np.arange(len(split)):\n",
    "        try:\n",
    "            lastname = re.match('\\w*\\. ', split[i]).group(0)[:-2]\n",
    "            name_and_speech = np.append(name_and_speech, lastname)\n",
    "            value = re.sub('[A-Z]\\w*\\. ', '', split[i])\n",
    "            name_and_speech = np.append(name_and_speech, value)\n",
    "        except:\n",
    "            abcabcabc = 1\n",
    "    return name_and_speech"
   ]
  },
  {
   "cell_type": "markdown",
   "metadata": {},
   "source": [
    "## Speech Table"
   ]
  },
  {
   "cell_type": "code",
   "execution_count": 3,
   "metadata": {
    "collapsed": true
   },
   "outputs": [],
   "source": [
    "speeches = Table().with_columns(\"speech_id\", make_array(), \n",
    "                                \"speaker_id\", make_array(), \n",
    "                                \"proceeding_id\", make_array(), \n",
    "                                \"topic_id\", make_array(), \n",
    "                                \"word_count\", make_array(), \n",
    "                                \"speech_text\", make_array(),\n",
    "                                'file_name', make_array())"
   ]
  },
  {
   "cell_type": "code",
   "execution_count": 4,
   "metadata": {
    "collapsed": true
   },
   "outputs": [],
   "source": [
    "count = 0\n",
    "for file in os.listdir(\"/Users/cun-yuwang/Desktop/Congress_Records\"): #change directory once we have everything\n",
    "    if file.endswith(\".txt\"):\n",
    "        separated = sep_speech(file)\n",
    "        i = 0\n",
    "        while i < len(separated):\n",
    "            row = make_array()\n",
    "            text = separated[i+1]\n",
    "            if len(text) > 30:\n",
    "                row = [count, separated[i], 'proceeding_id', 'topic-id', len(text.split()), text, file] \n",
    "                count += 1\n",
    "                speeches = speeches.with_row(row)     \n",
    "            i +=2\n"
   ]
  },
  {
   "cell_type": "code",
   "execution_count": 5,
   "metadata": {},
   "outputs": [
    {
     "data": {
      "text/html": [
       "<table border=\"1\" class=\"dataframe\">\n",
       "    <thead>\n",
       "        <tr>\n",
       "            <th>speech_id</th> <th>speaker_id</th> <th>proceeding_id</th> <th>topic_id</th> <th>word_count</th> <th>speech_text</th> <th>file_name</th>\n",
       "        </tr>\n",
       "    </thead>\n",
       "    <tbody>\n",
       "        <tr>\n",
       "            <td>0        </td> <td>CORNYN    </td> <td>proceeding_id</td> <td>topic-id</td> <td>2309      </td> <td>MrPresident, many recall that Christmas came a little ea ...</td> <td>CREC-2018-01-03-pt2-PgS10.txt  </td>\n",
       "        </tr>\n",
       "    </tbody>\n",
       "        <tr>\n",
       "            <td>1        </td> <td>DURBIN    </td> <td>proceeding_id</td> <td>topic-id</td> <td>18        </td> <td>MrPresident, I ask unanimous consent that the order for  ...</td> <td>CREC-2018-01-03-pt2-PgS10.txt  </td>\n",
       "        </tr>\n",
       "    </tbody>\n",
       "        <tr>\n",
       "            <td>2        </td> <td>DURBIN    </td> <td>proceeding_id</td> <td>topic-id</td> <td>893       </td> <td>MrPresident, on September 5 of last year, Attorney Gener ...</td> <td>CREC-2018-01-03-pt2-PgS11.txt  </td>\n",
       "        </tr>\n",
       "    </tbody>\n",
       "        <tr>\n",
       "            <td>3        </td> <td>WHITEHOUSE</td> <td>proceeding_id</td> <td>topic-id</td> <td>23        </td> <td>MrPresident, I ask unanimous consent that the order for  ...</td> <td>CREC-2018-01-03-pt2-PgS11.txt  </td>\n",
       "        </tr>\n",
       "    </tbody>\n",
       "        <tr>\n",
       "            <td>4        </td> <td>WHITEHOUSE</td> <td>proceeding_id</td> <td>topic-id</td> <td>2035      </td> <td>Thank you, MrPresident, and happy new year to you.  For  ...</td> <td>CREC-2018-01-03-pt2-PgS13.txt  </td>\n",
       "        </tr>\n",
       "    </tbody>\n",
       "        <tr>\n",
       "            <td>5        </td> <td>INHOFE    </td> <td>proceeding_id</td> <td>topic-id</td> <td>22        </td> <td>MrPresident, I ask unanimous consent that the order for  ...</td> <td>CREC-2018-01-03-pt2-PgS13.txt  </td>\n",
       "        </tr>\n",
       "    </tbody>\n",
       "        <tr>\n",
       "            <td>6        </td> <td>INHOFE    </td> <td>proceeding_id</td> <td>topic-id</td> <td>25        </td> <td>MrPresident, I ask unanimous consent to speak in morning ...</td> <td>CREC-2018-01-03-pt2-PgS13.txt  </td>\n",
       "        </tr>\n",
       "    </tbody>\n",
       "        <tr>\n",
       "            <td>7        </td> <td>INHOFE    </td> <td>proceeding_id</td> <td>topic-id</td> <td>1673      </td> <td>MrPresident, I begin by wishing everyone a happy new yea ...</td> <td>CREC-2018-01-03-pt2-PgS13.txt  </td>\n",
       "        </tr>\n",
       "    </tbody>\n",
       "        <tr>\n",
       "            <td>8        </td> <td>INHOFE    </td> <td>proceeding_id</td> <td>topic-id</td> <td>1682      </td> <td>MrPresident, I mentioned that there were three things I  ...</td> <td>CREC-2018-01-03-pt2-PgS16-2.txt</td>\n",
       "        </tr>\n",
       "    </tbody>\n",
       "        <tr>\n",
       "            <td>9        </td> <td>INHOFE    </td> <td>proceeding_id</td> <td>topic-id</td> <td>10        </td> <td>I yield the floor.  The PRESIDING The Senator from       ...</td> <td>CREC-2018-01-03-pt2-PgS16-2.txt</td>\n",
       "        </tr>\n",
       "    </tbody>\n",
       "</table>\n",
       "<p>... (92 rows omitted)</p>"
      ],
      "text/plain": [
       "speech_id | speaker_id | proceeding_id | topic_id | word_count | speech_text                                                  | file_name\n",
       "0         | CORNYN     | proceeding_id | topic-id | 2309       | MrPresident, many recall that Christmas came a little ea ... | CREC-2018-01-03-pt2-PgS10.txt\n",
       "1         | DURBIN     | proceeding_id | topic-id | 18         | MrPresident, I ask unanimous consent that the order for  ... | CREC-2018-01-03-pt2-PgS10.txt\n",
       "2         | DURBIN     | proceeding_id | topic-id | 893        | MrPresident, on September 5 of last year, Attorney Gener ... | CREC-2018-01-03-pt2-PgS11.txt\n",
       "3         | WHITEHOUSE | proceeding_id | topic-id | 23         | MrPresident, I ask unanimous consent that the order for  ... | CREC-2018-01-03-pt2-PgS11.txt\n",
       "4         | WHITEHOUSE | proceeding_id | topic-id | 2035       | Thank you, MrPresident, and happy new year to you.  For  ... | CREC-2018-01-03-pt2-PgS13.txt\n",
       "5         | INHOFE     | proceeding_id | topic-id | 22         | MrPresident, I ask unanimous consent that the order for  ... | CREC-2018-01-03-pt2-PgS13.txt\n",
       "6         | INHOFE     | proceeding_id | topic-id | 25         | MrPresident, I ask unanimous consent to speak in morning ... | CREC-2018-01-03-pt2-PgS13.txt\n",
       "7         | INHOFE     | proceeding_id | topic-id | 1673       | MrPresident, I begin by wishing everyone a happy new yea ... | CREC-2018-01-03-pt2-PgS13.txt\n",
       "8         | INHOFE     | proceeding_id | topic-id | 1682       | MrPresident, I mentioned that there were three things I  ... | CREC-2018-01-03-pt2-PgS16-2.txt\n",
       "9         | INHOFE     | proceeding_id | topic-id | 10         | I yield the floor.  The PRESIDING The Senator from       ... | CREC-2018-01-03-pt2-PgS16-2.txt\n",
       "... (92 rows omitted)"
      ]
     },
     "execution_count": 5,
     "metadata": {},
     "output_type": "execute_result"
    }
   ],
   "source": [
    "speeches"
   ]
  },
  {
   "cell_type": "code",
   "execution_count": null,
   "metadata": {
    "collapsed": true
   },
   "outputs": [],
   "source": []
  },
  {
   "cell_type": "markdown",
   "metadata": {},
   "source": [
    "## Speaker Table"
   ]
  },
  {
   "cell_type": "code",
   "execution_count": 6,
   "metadata": {
    "collapsed": true
   },
   "outputs": [],
   "source": [
    "speakers = Table().with_columns(\"speaker_id\", make_array(), \n",
    "                                \"first_name\", make_array(), \n",
    "                                \"last_name\", make_array(), \n",
    "                                \"type\" , make_array(),\n",
    "                                \"party\", make_array(), \n",
    "                                \"state\", make_array(), \n",
    "                                \"district\", make_array(),\n",
    "                                \"bio_guide_id\", make_array(),\n",
    "                                \"congress_id\", make_array())"
   ]
  },
  {
   "cell_type": "code",
   "execution_count": 7,
   "metadata": {},
   "outputs": [
    {
     "data": {
      "text/html": [
       "<table border=\"1\" class=\"dataframe\">\n",
       "    <thead>\n",
       "        <tr>\n",
       "            <th>speaker_id</th> <th>first_name</th> <th>last_name</th> <th>type</th> <th>party</th> <th>state</th> <th>district</th> <th>bio_guide_id</th> <th>congress_id</th>\n",
       "        </tr>\n",
       "    </thead>\n",
       "    <tbody>\n",
       "</table>"
      ],
      "text/plain": [
       "speaker_id | first_name | last_name | type | party | state | district | bio_guide_id | congress_id"
      ]
     },
     "execution_count": 7,
     "metadata": {},
     "output_type": "execute_result"
    }
   ],
   "source": [
    "speakers"
   ]
  },
  {
   "cell_type": "markdown",
   "metadata": {},
   "source": [
    "## Topic Table"
   ]
  },
  {
   "cell_type": "code",
   "execution_count": 8,
   "metadata": {
    "collapsed": true
   },
   "outputs": [],
   "source": [
    "topics = Table().with_columns(\"topic_id\", make_array(), \n",
    "                                \"topic_name\", make_array())"
   ]
  },
  {
   "cell_type": "code",
   "execution_count": 9,
   "metadata": {},
   "outputs": [
    {
     "data": {
      "text/html": [
       "<table border=\"1\" class=\"dataframe\">\n",
       "    <thead>\n",
       "        <tr>\n",
       "            <th>topic_id</th> <th>topic_name</th>\n",
       "        </tr>\n",
       "    </thead>\n",
       "    <tbody>\n",
       "</table>"
      ],
      "text/plain": [
       "topic_id | topic_name"
      ]
     },
     "execution_count": 9,
     "metadata": {},
     "output_type": "execute_result"
    }
   ],
   "source": [
    "topics"
   ]
  },
  {
   "cell_type": "markdown",
   "metadata": {},
   "source": [
    "## Proceedings Table"
   ]
  },
  {
   "cell_type": "code",
   "execution_count": 10,
   "metadata": {
    "collapsed": true
   },
   "outputs": [],
   "source": [
    "proceedings = Table().with_columns(\"proceeding_id\", make_array(), \n",
    "                              \"year\", make_array(),\n",
    "                                   'month', make_array(),\n",
    "                                   'day', make_array(),\n",
    "                              \"title\", make_array(),\n",
    "                                  'File Name', make_array())"
   ]
  },
  {
   "cell_type": "code",
   "execution_count": 11,
   "metadata": {},
   "outputs": [
    {
     "data": {
      "text/plain": [
       "'2018'"
      ]
     },
     "execution_count": 11,
     "metadata": {},
     "output_type": "execute_result"
    }
   ],
   "source": [
    "def sep_date_from_file(file):\n",
    "    abcdef = re.findall('[0-9]{4}-[0-9]{2}-[0-9]{2}', file)\n",
    "    return re.split('-', abcdef[0])\n",
    "sep_date_from_file('CREC-2018-01-04-pt1-PgS47.xml')[0]"
   ]
  },
  {
   "cell_type": "code",
   "execution_count": 12,
   "metadata": {
    "collapsed": true
   },
   "outputs": [],
   "source": [
    "def find_title(string):\n",
    "    parse_file = ''\n",
    "    with open(string) as file:\n",
    "        for line in file:\n",
    "            parse_file += line\n",
    "    parse_file = parse_file.replace('Mr. President', 'MrPresident')\n",
    "    title = re.findall('[A-Z \\'-]+[A-Z0-9-,\\. ]*[Continued]*\\\\n', parse_file)\n",
    "    return title[0].strip()"
   ]
  },
  {
   "cell_type": "code",
   "execution_count": 14,
   "metadata": {
    "collapsed": true
   },
   "outputs": [],
   "source": [
    "count = 0\n",
    "for file in speeches.group('file_name').column(0):\n",
    "    if file.endswith(\".txt\"):\n",
    "        date = sep_date_from_file(file)\n",
    "        try:\n",
    "            title = find_title(file)\n",
    "        except:\n",
    "            title = 'No Title'\n",
    "        row = [count, date[0], date[1], date[2], title, file]\n",
    "        proceedings = proceedings.with_row(row)\n",
    "        count += 1\n",
    "\n",
    "        \n",
    "    "
   ]
  },
  {
   "cell_type": "code",
   "execution_count": 104,
   "metadata": {},
   "outputs": [
    {
     "data": {
      "text/html": [
       "<table border=\"1\" class=\"dataframe\">\n",
       "    <thead>\n",
       "        <tr>\n",
       "            <th>proceeding_id</th> <th>year</th> <th>month</th> <th>day</th> <th>title</th> <th>File Name</th>\n",
       "        </tr>\n",
       "    </thead>\n",
       "    <tbody>\n",
       "        <tr>\n",
       "            <td>0            </td> <td>2018</td> <td>01   </td> <td>03  </td> <td>TAX REFORM BILL AND WORK BEFORE THE SENATE              </td> <td>CREC-2018-01-03-pt2-PgS10.txt  </td>\n",
       "        </tr>\n",
       "    </tbody>\n",
       "        <tr>\n",
       "            <td>1            </td> <td>2018</td> <td>01   </td> <td>03  </td> <td>DACA                                                    </td> <td>CREC-2018-01-03-pt2-PgS11.txt  </td>\n",
       "        </tr>\n",
       "    </tbody>\n",
       "        <tr>\n",
       "            <td>2            </td> <td>2018</td> <td>01   </td> <td>03  </td> <td>CLIMATE CHANGE                                          </td> <td>CREC-2018-01-03-pt2-PgS13.txt  </td>\n",
       "        </tr>\n",
       "    </tbody>\n",
       "        <tr>\n",
       "            <td>3            </td> <td>2018</td> <td>01   </td> <td>03  </td> <td>TAX REFORM BILL AND GOVERNMENT REGULATION               </td> <td>CREC-2018-01-03-pt2-PgS16-2.txt</td>\n",
       "        </tr>\n",
       "    </tbody>\n",
       "        <tr>\n",
       "            <td>4            </td> <td>2018</td> <td>01   </td> <td>03  </td> <td>IRAN                                                    </td> <td>CREC-2018-01-03-pt2-PgS16.txt  </td>\n",
       "        </tr>\n",
       "    </tbody>\n",
       "        <tr>\n",
       "            <td>5            </td> <td>2018</td> <td>01   </td> <td>03  </td> <td>NOMINATION OF JOHN ROOD                                 </td> <td>CREC-2018-01-03-pt2-PgS18.txt  </td>\n",
       "        </tr>\n",
       "    </tbody>\n",
       "        <tr>\n",
       "            <td>6            </td> <td>2018</td> <td>01   </td> <td>03  </td> <td>EXECUTIVE SESSION                                       </td> <td>CREC-2018-01-03-pt2-PgS19-3.txt</td>\n",
       "        </tr>\n",
       "    </tbody>\n",
       "        <tr>\n",
       "            <td>7            </td> <td>2018</td> <td>01   </td> <td>03  </td> <td>HONORING DOUGLAS COUNTY SHERIFF'S DEPUTY ZACKARI PARRISH</td> <td>CREC-2018-01-03-pt2-PgS19.txt  </td>\n",
       "        </tr>\n",
       "    </tbody>\n",
       "        <tr>\n",
       "            <td>8            </td> <td>2018</td> <td>01   </td> <td>03  </td> <td>WELCOMING NEW SENATORS                                  </td> <td>CREC-2018-01-03-pt2-PgS2-2.txt </td>\n",
       "        </tr>\n",
       "    </tbody>\n",
       "        <tr>\n",
       "            <td>9            </td> <td>2018</td> <td>01   </td> <td>03  </td> <td>FUNDING THE GOVERNMENT                                  </td> <td>CREC-2018-01-03-pt2-PgS2-3.txt </td>\n",
       "        </tr>\n",
       "    </tbody>\n",
       "        <tr>\n",
       "            <td>10           </td> <td>2018</td> <td>01   </td> <td>03  </td> <td>IRAN                                                    </td> <td>CREC-2018-01-03-pt2-PgS2-4.txt </td>\n",
       "        </tr>\n",
       "    </tbody>\n",
       "        <tr>\n",
       "            <td>11           </td> <td>2018</td> <td>01   </td> <td>03  </td> <td>TRIBUTE TO ORRIN HATCH                                  </td> <td>CREC-2018-01-03-pt2-PgS2-5.txt </td>\n",
       "        </tr>\n",
       "    </tbody>\n",
       "        <tr>\n",
       "            <td>12           </td> <td>2018</td> <td>01   </td> <td>03  </td> <td>MEASURE PLACED ON THE CALENDAR--S. 2274                 </td> <td>CREC-2018-01-03-pt2-PgS2-6.txt </td>\n",
       "        </tr>\n",
       "    </tbody>\n",
       "        <tr>\n",
       "            <td>13           </td> <td>2018</td> <td>01   </td> <td>03  </td> <td>WELCOMING NEW SENATORS                                  </td> <td>CREC-2018-01-03-pt2-PgS2-8.txt </td>\n",
       "        </tr>\n",
       "    </tbody>\n",
       "        <tr>\n",
       "            <td>14           </td> <td>2018</td> <td>01   </td> <td>03  </td> <td>ORDER OF BUSINESS                                       </td> <td>CREC-2018-01-03-pt2-PgS20-2.txt</td>\n",
       "        </tr>\n",
       "    </tbody>\n",
       "        <tr>\n",
       "            <td>15           </td> <td>2018</td> <td>01   </td> <td>03  </td> <td>LEGISLATIVE SESSION                                     </td> <td>CREC-2018-01-03-pt2-PgS20-3.txt</td>\n",
       "        </tr>\n",
       "    </tbody>\n",
       "        <tr>\n",
       "            <td>16           </td> <td>2018</td> <td>01   </td> <td>03  </td> <td>EXECUTIVE SESSION                                       </td> <td>CREC-2018-01-03-pt2-PgS20-4.txt</td>\n",
       "        </tr>\n",
       "    </tbody>\n",
       "        <tr>\n",
       "            <td>17           </td> <td>2018</td> <td>01   </td> <td>03  </td> <td>LEGISLATIVE SESSION                                     </td> <td>CREC-2018-01-03-pt2-PgS20-5.txt</td>\n",
       "        </tr>\n",
       "    </tbody>\n",
       "        <tr>\n",
       "            <td>18           </td> <td>2018</td> <td>01   </td> <td>03  </td> <td>EXECUTIVE SESSION                                       </td> <td>CREC-2018-01-03-pt2-PgS20-6.txt</td>\n",
       "        </tr>\n",
       "    </tbody>\n",
       "        <tr>\n",
       "            <td>19           </td> <td>2018</td> <td>01   </td> <td>03  </td> <td>LEGISLATIVE SESSION                                     </td> <td>CREC-2018-01-03-pt2-PgS20-7.txt</td>\n",
       "        </tr>\n",
       "    </tbody>\n",
       "        <tr>\n",
       "            <td>20           </td> <td>2018</td> <td>01   </td> <td>03  </td> <td>EXECUTIVE SESSION                                       </td> <td>CREC-2018-01-03-pt2-PgS20-8.txt</td>\n",
       "        </tr>\n",
       "    </tbody>\n",
       "        <tr>\n",
       "            <td>21           </td> <td>2018</td> <td>01   </td> <td>03  </td> <td>LEGISLATIVE SESSION                                     </td> <td>CREC-2018-01-03-pt2-PgS20-9.txt</td>\n",
       "        </tr>\n",
       "    </tbody>\n",
       "        <tr>\n",
       "            <td>22           </td> <td>2018</td> <td>01   </td> <td>03  </td> <td>LETTER OF RESIGNATION                                   </td> <td>CREC-2018-01-03-pt2-PgS20.txt  </td>\n",
       "        </tr>\n",
       "    </tbody>\n",
       "        <tr>\n",
       "            <td>23           </td> <td>2018</td> <td>01   </td> <td>03  </td> <td>LEGISLATIVE SESSION                                     </td> <td>CREC-2018-01-03-pt2-PgS21-2.txt</td>\n",
       "        </tr>\n",
       "    </tbody>\n",
       "        <tr>\n",
       "            <td>24           </td> <td>2018</td> <td>01   </td> <td>03  </td> <td>VOTE EXPLANATION                                        </td> <td>CREC-2018-01-03-pt2-PgS21-3.txt</td>\n",
       "        </tr>\n",
       "    </tbody>\n",
       "        <tr>\n",
       "            <td>25           </td> <td>2018</td> <td>01   </td> <td>03  </td> <td>TRIBUTE TO MATT MARTIN                                  </td> <td>CREC-2018-01-03-pt2-PgS21-4.txt</td>\n",
       "        </tr>\n",
       "    </tbody>\n",
       "        <tr>\n",
       "            <td>26           </td> <td>2018</td> <td>01   </td> <td>03  </td> <td>ADDITIONAL STATEMENTS                                   </td> <td>CREC-2018-01-03-pt2-PgS21-5.txt</td>\n",
       "        </tr>\n",
       "    </tbody>\n",
       "        <tr>\n",
       "            <td>27           </td> <td>2018</td> <td>01   </td> <td>03  </td> <td>TRIBUTE TO LINDA CLOUTIER-NAMDAR                        </td> <td>CREC-2018-01-03-pt2-PgS21-6.txt</td>\n",
       "        </tr>\n",
       "    </tbody>\n",
       "        <tr>\n",
       "            <td>28           </td> <td>2018</td> <td>01   </td> <td>03  </td> <td>EXECUTIVE SESSION                                       </td> <td>CREC-2018-01-03-pt2-PgS21.txt  </td>\n",
       "        </tr>\n",
       "    </tbody>\n",
       "        <tr>\n",
       "            <td>29           </td> <td>2018</td> <td>01   </td> <td>03  </td> <td>STATEMENTS ON INTRODUCED BILLS AND JOINT RESOLUTIONS    </td> <td>CREC-2018-01-03-pt2-PgS24.txt  </td>\n",
       "        </tr>\n",
       "    </tbody>\n",
       "        <tr>\n",
       "            <td>30           </td> <td>2018</td> <td>01   </td> <td>03  </td> <td>MEASURE READ THE FIRST TIME--H.R. 4667                  </td> <td>CREC-2018-01-03-pt2-PgS25-2.txt</td>\n",
       "        </tr>\n",
       "    </tbody>\n",
       "        <tr>\n",
       "            <td>31           </td> <td>2018</td> <td>01   </td> <td>03  </td> <td>ORDERS FOR THURSDAY, JANUARY 4, 2018                    </td> <td>CREC-2018-01-03-pt2-PgS25-3.txt</td>\n",
       "        </tr>\n",
       "    </tbody>\n",
       "        <tr>\n",
       "            <td>32           </td> <td>2018</td> <td>01   </td> <td>03  </td> <td>ADJOURNMENT UNTIL 11 A.M. TOMORROW                      </td> <td>CREC-2018-01-03-pt2-PgS25-4.txt</td>\n",
       "        </tr>\n",
       "    </tbody>\n",
       "        <tr>\n",
       "            <td>33           </td> <td>2018</td> <td>01   </td> <td>03  </td> <td>VETERANS E-HEALTH AND TELEMEDICINE SUPPORT ACT OF 2017  </td> <td>CREC-2018-01-03-pt2-PgS25.txt  </td>\n",
       "        </tr>\n",
       "    </tbody>\n",
       "        <tr>\n",
       "            <td>34           </td> <td>2018</td> <td>01   </td> <td>03  </td> <td>FOREIGN POLICY AND PRESIDENTIAL MORAL AUTHORITY         </td> <td>CREC-2018-01-03-pt2-PgS3-2.txt </td>\n",
       "        </tr>\n",
       "    </tbody>\n",
       "        <tr>\n",
       "            <td>35           </td> <td>2018</td> <td>01   </td> <td>03  </td> <td>A NEW DIRECTION                                         </td> <td>CREC-2018-01-03-pt2-PgS3.txt   </td>\n",
       "        </tr>\n",
       "    </tbody>\n",
       "        <tr>\n",
       "            <td>36           </td> <td>2018</td> <td>01   </td> <td>03  </td> <td>FUNDING THE GOVERNMENT                                  </td> <td>CREC-2018-01-03-pt2-PgS4-4.txt </td>\n",
       "        </tr>\n",
       "    </tbody>\n",
       "        <tr>\n",
       "            <td>37           </td> <td>2018</td> <td>01   </td> <td>03  </td> <td>LETTER OF RESIGNATION                                   </td> <td>CREC-2018-01-03-pt2-PgS4.txt   </td>\n",
       "        </tr>\n",
       "    </tbody>\n",
       "        <tr>\n",
       "            <td>38           </td> <td>2018</td> <td>01   </td> <td>03  </td> <td>NET NEUTRALITY                                          </td> <td>CREC-2018-01-03-pt2-PgS5.txt   </td>\n",
       "        </tr>\n",
       "    </tbody>\n",
       "        <tr>\n",
       "            <td>39           </td> <td>2018</td> <td>01   </td> <td>03  </td> <td>OFFSHORE DRILLING REGULATION                            </td> <td>CREC-2018-01-03-pt2-PgS8.txt   </td>\n",
       "        </tr>\n",
       "    </tbody>\n",
       "        <tr>\n",
       "            <td>40           </td> <td>2018</td> <td>01   </td> <td>04  </td> <td>FUNDING THE GOVERNMENT                                  </td> <td>CREC-2018-01-04-pt1-PgS27-8.txt</td>\n",
       "        </tr>\n",
       "    </tbody>\n",
       "        <tr>\n",
       "            <td>41           </td> <td>2018</td> <td>01   </td> <td>04  </td> <td>FUNDING THE GOVERNMENT                                  </td> <td>CREC-2018-01-04-pt1-PgS28-3.txt</td>\n",
       "        </tr>\n",
       "    </tbody>\n",
       "        <tr>\n",
       "            <td>42           </td> <td>2018</td> <td>01   </td> <td>04  </td> <td>MEASURE PLACED ON THE CALENDAR--H.R. 4667               </td> <td>CREC-2018-01-04-pt1-PgS28.txt  </td>\n",
       "        </tr>\n",
       "    </tbody>\n",
       "        <tr>\n",
       "            <td>43           </td> <td>2018</td> <td>01   </td> <td>04  </td> <td>EXECUTIVE SESSION                                       </td> <td>CREC-2018-01-04-pt1-PgS29-2.txt</td>\n",
       "        </tr>\n",
       "    </tbody>\n",
       "        <tr>\n",
       "            <td>44           </td> <td>2018</td> <td>01   </td> <td>04  </td> <td>EXECUTIVE CALENDAR--Continued                           </td> <td>CREC-2018-01-04-pt1-PgS35-2.txt</td>\n",
       "        </tr>\n",
       "    </tbody>\n",
       "        <tr>\n",
       "            <td>45           </td> <td>2018</td> <td>01   </td> <td>04  </td> <td>ADDITIONAL STATEMENTS                                   </td> <td>CREC-2018-01-04-pt1-PgS44-2.txt</td>\n",
       "        </tr>\n",
       "    </tbody>\n",
       "        <tr>\n",
       "            <td>46           </td> <td>2018</td> <td>01   </td> <td>04  </td> <td>TRIBUTE TO JUNE RYCHALSKI                               </td> <td>CREC-2018-01-04-pt1-PgS44-3.txt</td>\n",
       "        </tr>\n",
       "    </tbody>\n",
       "        <tr>\n",
       "            <td>47           </td> <td>2018</td> <td>01   </td> <td>04  </td> <td>TRIBUTE TO BARBARA JOHNSON                              </td> <td>CREC-2018-01-04-pt1-PgS44-4.txt</td>\n",
       "        </tr>\n",
       "    </tbody>\n",
       "        <tr>\n",
       "            <td>48           </td> <td>2018</td> <td>01   </td> <td>04  </td> <td>LEGISLATIVE SESSION                                     </td> <td>CREC-2018-01-04-pt1-PgS44.txt  </td>\n",
       "        </tr>\n",
       "    </tbody>\n",
       "        <tr>\n",
       "            <td>49           </td> <td>2018</td> <td>01   </td> <td>04  </td> <td>ORDERS FOR MONDAY, JANUARY 8, 2018                      </td> <td>CREC-2018-01-04-pt1-PgS47-3.txt</td>\n",
       "        </tr>\n",
       "    </tbody>\n",
       "        <tr>\n",
       "            <td>50           </td> <td>2018</td> <td>01   </td> <td>04  </td> <td>ADJOURNMENT UNTIL MONDAY, JANUARY 8, 2018, AT 3 P.M.    </td> <td>CREC-2018-01-04-pt1-PgS48.txt  </td>\n",
       "        </tr>\n",
       "    </tbody>\n",
       "</table>"
      ],
      "text/plain": [
       "<IPython.core.display.HTML object>"
      ]
     },
     "metadata": {},
     "output_type": "display_data"
    }
   ],
   "source": [
    "proceedings.show()"
   ]
  },
  {
   "cell_type": "code",
   "execution_count": null,
   "metadata": {
    "collapsed": true
   },
   "outputs": [],
   "source": []
  }
 ],
 "metadata": {
  "kernelspec": {
   "display_name": "Python 3",
   "language": "python",
   "name": "python3"
  },
  "language_info": {
   "codemirror_mode": {
    "name": "ipython",
    "version": 3
   },
   "file_extension": ".py",
   "mimetype": "text/x-python",
   "name": "python",
   "nbconvert_exporter": "python",
   "pygments_lexer": "ipython3",
   "version": "3.6.1"
  }
 },
 "nbformat": 4,
 "nbformat_minor": 2
}
