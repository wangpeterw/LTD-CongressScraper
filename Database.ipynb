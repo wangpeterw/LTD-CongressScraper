{
 "cells": [
  {
   "cell_type": "markdown",
   "metadata": {},
   "source": [
    "# Relational Database Structure for LTD"
   ]
  },
  {
   "cell_type": "code",
   "execution_count": 1,
   "metadata": {
    "collapsed": true
   },
   "outputs": [],
   "source": [
    "from datascience import *\n",
    "import re\n",
    "import numpy as np\n",
    "import os"
   ]
  },
  {
   "cell_type": "markdown",
   "metadata": {},
   "source": [
    "# Seperates Speaker/Speech pairs from file"
   ]
  },
  {
   "cell_type": "code",
   "execution_count": 34,
   "metadata": {},
   "outputs": [],
   "source": [
    "def sep_speech(string):\n",
    "    parse_file = ''\n",
    "    with open(string) as file:\n",
    "        for line in file:\n",
    "            parse_file += line\n",
    "    parse_file = parse_file.replace('\\n', '')\n",
    "    parse_file = parse_file.replace('Mr. President', 'MrPresident')\n",
    "    \n",
    "    split = re.split(r'Mr. |Ms. |Mrs. ', parse_file)\n",
    "    split.pop(0)\n",
    "    name_and_speech = make_array()\n",
    "    for i in np.arange(len(split)):\n",
    "        try:\n",
    "            lastname = re.match('\\w*\\. ', split[i]).group(0)[:-2]\n",
    "            name_and_speech = np.append(name_and_speech, lastname)\n",
    "            value = re.sub('[A-Z]\\w*\\. ', '', split[i])\n",
    "            name_and_speech = np.append(name_and_speech, value)\n",
    "        except:\n",
    "            abcabcabc = 2\n",
    "    return name_and_speech"
   ]
  },
  {
   "cell_type": "markdown",
   "metadata": {},
   "source": [
    "## Speech Table"
   ]
  },
  {
   "cell_type": "code",
   "execution_count": 62,
   "metadata": {},
   "outputs": [],
   "source": [
    "speeches = Table().with_columns(\"speech_id\", make_array(), \n",
    "                                \"speaker_id\", make_array(), \n",
    "                                \"proceeding_id\", make_array(), \n",
    "                                \"topic_id\", make_array(), \n",
    "                                \"word_count\", make_array(), \n",
    "                                \"speech_text\", make_array(),\n",
    "                                'file_name', make_array())"
   ]
  },
  {
   "cell_type": "code",
   "execution_count": 63,
   "metadata": {},
   "outputs": [
    {
     "name": "stdout",
     "output_type": "stream",
     "text": [
      "1\n",
      "2\n",
      "3\n",
      "4\n",
      "5\n",
      "6\n",
      "7\n",
      "8\n",
      "9\n",
      "10\n",
      "11\n",
      "12\n",
      "13\n",
      "14\n",
      "15\n",
      "16\n",
      "17\n",
      "18\n",
      "19\n",
      "20\n",
      "21\n",
      "22\n",
      "23\n",
      "24\n",
      "25\n",
      "26\n",
      "27\n",
      "28\n",
      "29\n",
      "30\n",
      "31\n",
      "32\n",
      "33\n",
      "34\n",
      "35\n",
      "36\n",
      "37\n",
      "38\n",
      "39\n",
      "40\n",
      "41\n",
      "42\n",
      "43\n",
      "44\n",
      "45\n",
      "46\n",
      "47\n",
      "48\n",
      "49\n",
      "50\n",
      "51\n",
      "52\n",
      "53\n",
      "54\n",
      "55\n",
      "56\n",
      "57\n",
      "58\n",
      "59\n",
      "60\n",
      "61\n",
      "62\n",
      "63\n",
      "64\n",
      "65\n",
      "66\n",
      "67\n",
      "68\n",
      "69\n",
      "70\n",
      "71\n",
      "72\n",
      "73\n",
      "74\n",
      "75\n",
      "76\n",
      "77\n",
      "78\n",
      "79\n",
      "80\n",
      "81\n",
      "82\n",
      "83\n",
      "84\n",
      "85\n",
      "86\n",
      "87\n",
      "88\n",
      "89\n",
      "90\n",
      "91\n",
      "92\n",
      "93\n",
      "94\n",
      "95\n",
      "96\n",
      "97\n",
      "98\n",
      "99\n",
      "100\n",
      "101\n",
      "102\n"
     ]
    }
   ],
   "source": [
    "count = 0\n",
    "for file in os.listdir(\"/Users/cun-yuwang/Desktop/Congress_Records\"): #change directory once we have everything\n",
    "    if file.endswith(\".txt\"):\n",
    "        separated = sep_speech(file)\n",
    "        i = 0\n",
    "        while i < len(separated):\n",
    "            row = make_array()\n",
    "            text = separated[i+1]\n",
    "            if len(text) > 30:\n",
    "                row = [count, separated[i], 'proceeding_id', 'topic-id', len(text.split()), text, file] \n",
    "                count += 1\n",
    "                print(count)\n",
    "                speeches = speeches.with_row(row)     \n",
    "            i +=2\n"
   ]
  },
  {
   "cell_type": "code",
   "execution_count": 65,
   "metadata": {},
   "outputs": [
    {
     "data": {
      "text/html": [
       "<table border=\"1\" class=\"dataframe\">\n",
       "    <thead>\n",
       "        <tr>\n",
       "            <th>speech_id</th> <th>speaker_id</th> <th>proceeding_id</th> <th>topic_id</th> <th>word_count</th> <th>speech_text</th> <th>file_name</th>\n",
       "        </tr>\n",
       "    </thead>\n",
       "    <tbody>\n",
       "        <tr>\n",
       "            <td>0        </td> <td>CORNYN    </td> <td>proceeding_id</td> <td>topic-id</td> <td>2309      </td> <td>MrPresident, many recall that Christmas came a little ea ...</td> <td>CREC-2018-01-03-pt2-PgS10.txt  </td>\n",
       "        </tr>\n",
       "    </tbody>\n",
       "        <tr>\n",
       "            <td>1        </td> <td>DURBIN    </td> <td>proceeding_id</td> <td>topic-id</td> <td>18        </td> <td>MrPresident, I ask unanimous consent that the order for  ...</td> <td>CREC-2018-01-03-pt2-PgS10.txt  </td>\n",
       "        </tr>\n",
       "    </tbody>\n",
       "        <tr>\n",
       "            <td>2        </td> <td>DURBIN    </td> <td>proceeding_id</td> <td>topic-id</td> <td>893       </td> <td>MrPresident, on September 5 of last year, Attorney Gener ...</td> <td>CREC-2018-01-03-pt2-PgS11.txt  </td>\n",
       "        </tr>\n",
       "    </tbody>\n",
       "        <tr>\n",
       "            <td>3        </td> <td>WHITEHOUSE</td> <td>proceeding_id</td> <td>topic-id</td> <td>23        </td> <td>MrPresident, I ask unanimous consent that the order for  ...</td> <td>CREC-2018-01-03-pt2-PgS11.txt  </td>\n",
       "        </tr>\n",
       "    </tbody>\n",
       "        <tr>\n",
       "            <td>4        </td> <td>WHITEHOUSE</td> <td>proceeding_id</td> <td>topic-id</td> <td>2035      </td> <td>Thank you, MrPresident, and happy new year to you.  For  ...</td> <td>CREC-2018-01-03-pt2-PgS13.txt  </td>\n",
       "        </tr>\n",
       "    </tbody>\n",
       "        <tr>\n",
       "            <td>5        </td> <td>INHOFE    </td> <td>proceeding_id</td> <td>topic-id</td> <td>22        </td> <td>MrPresident, I ask unanimous consent that the order for  ...</td> <td>CREC-2018-01-03-pt2-PgS13.txt  </td>\n",
       "        </tr>\n",
       "    </tbody>\n",
       "        <tr>\n",
       "            <td>6        </td> <td>INHOFE    </td> <td>proceeding_id</td> <td>topic-id</td> <td>25        </td> <td>MrPresident, I ask unanimous consent to speak in morning ...</td> <td>CREC-2018-01-03-pt2-PgS13.txt  </td>\n",
       "        </tr>\n",
       "    </tbody>\n",
       "        <tr>\n",
       "            <td>7        </td> <td>INHOFE    </td> <td>proceeding_id</td> <td>topic-id</td> <td>1673      </td> <td>MrPresident, I begin by wishing everyone a happy new yea ...</td> <td>CREC-2018-01-03-pt2-PgS13.txt  </td>\n",
       "        </tr>\n",
       "    </tbody>\n",
       "        <tr>\n",
       "            <td>8        </td> <td>INHOFE    </td> <td>proceeding_id</td> <td>topic-id</td> <td>1682      </td> <td>MrPresident, I mentioned that there were three things I  ...</td> <td>CREC-2018-01-03-pt2-PgS16-2.txt</td>\n",
       "        </tr>\n",
       "    </tbody>\n",
       "        <tr>\n",
       "            <td>9        </td> <td>INHOFE    </td> <td>proceeding_id</td> <td>topic-id</td> <td>10        </td> <td>I yield the floor.  The PRESIDING The Senator from       ...</td> <td>CREC-2018-01-03-pt2-PgS16-2.txt</td>\n",
       "        </tr>\n",
       "    </tbody>\n",
       "</table>\n",
       "<p>... (92 rows omitted)</p>"
      ],
      "text/plain": [
       "speech_id | speaker_id | proceeding_id | topic_id | word_count | speech_text                                                  | file_name\n",
       "0         | CORNYN     | proceeding_id | topic-id | 2309       | MrPresident, many recall that Christmas came a little ea ... | CREC-2018-01-03-pt2-PgS10.txt\n",
       "1         | DURBIN     | proceeding_id | topic-id | 18         | MrPresident, I ask unanimous consent that the order for  ... | CREC-2018-01-03-pt2-PgS10.txt\n",
       "2         | DURBIN     | proceeding_id | topic-id | 893        | MrPresident, on September 5 of last year, Attorney Gener ... | CREC-2018-01-03-pt2-PgS11.txt\n",
       "3         | WHITEHOUSE | proceeding_id | topic-id | 23         | MrPresident, I ask unanimous consent that the order for  ... | CREC-2018-01-03-pt2-PgS11.txt\n",
       "4         | WHITEHOUSE | proceeding_id | topic-id | 2035       | Thank you, MrPresident, and happy new year to you.  For  ... | CREC-2018-01-03-pt2-PgS13.txt\n",
       "5         | INHOFE     | proceeding_id | topic-id | 22         | MrPresident, I ask unanimous consent that the order for  ... | CREC-2018-01-03-pt2-PgS13.txt\n",
       "6         | INHOFE     | proceeding_id | topic-id | 25         | MrPresident, I ask unanimous consent to speak in morning ... | CREC-2018-01-03-pt2-PgS13.txt\n",
       "7         | INHOFE     | proceeding_id | topic-id | 1673       | MrPresident, I begin by wishing everyone a happy new yea ... | CREC-2018-01-03-pt2-PgS13.txt\n",
       "8         | INHOFE     | proceeding_id | topic-id | 1682       | MrPresident, I mentioned that there were three things I  ... | CREC-2018-01-03-pt2-PgS16-2.txt\n",
       "9         | INHOFE     | proceeding_id | topic-id | 10         | I yield the floor.  The PRESIDING The Senator from       ... | CREC-2018-01-03-pt2-PgS16-2.txt\n",
       "... (92 rows omitted)"
      ]
     },
     "execution_count": 65,
     "metadata": {},
     "output_type": "execute_result"
    }
   ],
   "source": [
    "speeches"
   ]
  },
  {
   "cell_type": "markdown",
   "metadata": {},
   "source": [
    "## Speaker Table"
   ]
  },
  {
   "cell_type": "code",
   "execution_count": 13,
   "metadata": {
    "collapsed": true
   },
   "outputs": [],
   "source": [
    "speakers = Table().with_columns(\"speaker_id\", make_array(), \n",
    "                                \"first_name\", make_array(), \n",
    "                                \"last_name\", make_array(), \n",
    "                                \"type\" , make_array(),\n",
    "                                \"party\", make_array(), \n",
    "                                \"state\", make_array(), \n",
    "                                \"district\", make_array(),\n",
    "                                \"bio_guide_id\", make_array(),\n",
    "                                \"congress_id\", make_array())"
   ]
  },
  {
   "cell_type": "code",
   "execution_count": 14,
   "metadata": {},
   "outputs": [
    {
     "data": {
      "text/html": [
       "<table border=\"1\" class=\"dataframe\">\n",
       "    <thead>\n",
       "        <tr>\n",
       "            <th>speaker_id</th> <th>first_name</th> <th>last_name</th> <th>type</th> <th>party</th> <th>state</th> <th>district</th> <th>bio_guide_id</th> <th>congress_id</th>\n",
       "        </tr>\n",
       "    </thead>\n",
       "    <tbody>\n",
       "</table>"
      ],
      "text/plain": [
       "speaker_id | first_name | last_name | type | party | state | district | bio_guide_id | congress_id"
      ]
     },
     "execution_count": 14,
     "metadata": {},
     "output_type": "execute_result"
    }
   ],
   "source": [
    "speakers"
   ]
  },
  {
   "cell_type": "markdown",
   "metadata": {},
   "source": [
    "## Topic Table"
   ]
  },
  {
   "cell_type": "code",
   "execution_count": 19,
   "metadata": {
    "collapsed": true
   },
   "outputs": [],
   "source": [
    "topics = Table().with_columns(\"topic_id\", make_array(), \n",
    "                                \"topic_name\", make_array())"
   ]
  },
  {
   "cell_type": "code",
   "execution_count": 20,
   "metadata": {},
   "outputs": [
    {
     "data": {
      "text/html": [
       "<table border=\"1\" class=\"dataframe\">\n",
       "    <thead>\n",
       "        <tr>\n",
       "            <th>topic_id</th> <th>topic_name</th>\n",
       "        </tr>\n",
       "    </thead>\n",
       "    <tbody>\n",
       "</table>"
      ],
      "text/plain": [
       "topic_id | topic_name"
      ]
     },
     "execution_count": 20,
     "metadata": {},
     "output_type": "execute_result"
    }
   ],
   "source": [
    "topics"
   ]
  },
  {
   "cell_type": "markdown",
   "metadata": {},
   "source": [
    "## Proceeding Table"
   ]
  },
  {
   "cell_type": "code",
   "execution_count": 22,
   "metadata": {
    "collapsed": true
   },
   "outputs": [],
   "source": [
    "proceedings = Table().with_columns(\"proceeding_id\", make_array(), \n",
    "                              \"date\", make_array(),\n",
    "                              \"title\", make_array())"
   ]
  },
  {
   "cell_type": "code",
   "execution_count": 23,
   "metadata": {},
   "outputs": [
    {
     "data": {
      "text/html": [
       "<table border=\"1\" class=\"dataframe\">\n",
       "    <thead>\n",
       "        <tr>\n",
       "            <th>proceeding_id</th> <th>date</th> <th>title</th>\n",
       "        </tr>\n",
       "    </thead>\n",
       "    <tbody>\n",
       "</table>"
      ],
      "text/plain": [
       "proceeding_id | date | title"
      ]
     },
     "execution_count": 23,
     "metadata": {},
     "output_type": "execute_result"
    }
   ],
   "source": [
    "proceedings"
   ]
  },
  {
   "cell_type": "code",
   "execution_count": null,
   "metadata": {
    "collapsed": true
   },
   "outputs": [],
   "source": []
  }
 ],
 "metadata": {
  "kernelspec": {
   "display_name": "Python 3",
   "language": "python",
   "name": "python3"
  }
 },
 "nbformat": 4,
 "nbformat_minor": 2
}
