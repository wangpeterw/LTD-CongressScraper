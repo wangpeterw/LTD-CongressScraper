{
 "cells": [
  {
   "cell_type": "code",
   "execution_count": 4,
   "metadata": {
    "collapsed": true
   },
   "outputs": [],
   "source": [
    "from bs4 import BeautifulSoup as Soup\n",
    "from datascience import *\n",
    "import numpy as np"
   ]
  },
  {
   "cell_type": "code",
   "execution_count": 5,
   "metadata": {
    "collapsed": true
   },
   "outputs": [],
   "source": [
    "def getAllExtensions(file):\n",
    "    handler = open(file).read()\n",
    "    soup = Soup(handler, \"lxml\")\n",
    "    return soup.find_all('extension')"
   ]
  },
  {
   "cell_type": "code",
   "execution_count": 6,
   "metadata": {
    "collapsed": true
   },
   "outputs": [],
   "source": [
    "master_extensions = getAllExtensions(\"mastermods.xml\")"
   ]
  },
  {
   "cell_type": "code",
   "execution_count": 7,
   "metadata": {
    "collapsed": true
   },
   "outputs": [],
   "source": [
    "def getCongMemberExtension(extensions, last_name):\n",
    "    for extension in extensions:\n",
    "        ext = str(extension)\n",
    "        if last_name in ext:\n",
    "            return extension"
   ]
  },
  {
   "cell_type": "code",
   "execution_count": 8,
   "metadata": {
    "collapsed": true
   },
   "outputs": [],
   "source": [
    "def getCongMemberExtensionFromFile(last_name, filename):\n",
    "    handler = open(filename).read()\n",
    "    soup = Soup(handler, \"lxml\")\n",
    "    extensions = soup.find_all('extension')\n",
    "    for extension in extensions:\n",
    "        ext = str(extension)\n",
    "        if last_name in ext:\n",
    "            return extension"
   ]
  },
  {
   "cell_type": "code",
   "execution_count": 9,
   "metadata": {
    "collapsed": true
   },
   "outputs": [],
   "source": [
    "def getCongMemberTag(congMemberExtension):\n",
    "    contents = congMemberExtension.contents\n",
    "    for tag in contents:\n",
    "        tag_str = str(tag)\n",
    "        if 'congmember' in tag_str:\n",
    "            return tag"
   ]
  },
  {
   "cell_type": "code",
   "execution_count": 10,
   "metadata": {
    "collapsed": true
   },
   "outputs": [],
   "source": [
    "def getParty(congMemberTag):\n",
    "    return congMemberTag.attrs['party']\n",
    "def getType(congMemberTag):\n",
    "    return congMemberTag.attrs['type']\n",
    "def getAuthorityId(congMemberTag):\n",
    "    return congMemberTag.attrs['authorityid']\n",
    "def getBioGuideId(congMemberTag):\n",
    "    return congMemberTag.attrs['bioguideid']\n",
    "def getState(congMemberTag):\n",
    "    return congMemberTag.attrs['state']\n",
    "def getCongressId(congMemberTag):\n",
    "    return congMemberTag.attrs['congress']"
   ]
  },
  {
   "cell_type": "code",
   "execution_count": 11,
   "metadata": {
    "collapsed": true
   },
   "outputs": [],
   "source": [
    "def getDistrictTag(congMemberExtension):\n",
    "    contents = congMemberExtension.contents\n",
    "    for tag in contents:\n",
    "        tag_str = str(tag)\n",
    "        if 'district' in tag_str:\n",
    "            return tag"
   ]
  },
  {
   "cell_type": "code",
   "execution_count": 12,
   "metadata": {
    "collapsed": true
   },
   "outputs": [],
   "source": [
    "def getFirstName(congMemberTag):\n",
    "    contents = congMemberTag.contents\n",
    "    name_tags = []\n",
    "    for tag in contents:\n",
    "        tag_str = str(tag)\n",
    "        if 'name' in tag_str:\n",
    "            name_tags += [tag]\n",
    "    try:\n",
    "        first_name = name_tags[1].string.split()[0]\n",
    "    except:\n",
    "        first_name = None\n",
    "    return first_name"
   ]
  },
  {
   "cell_type": "markdown",
   "metadata": {},
   "source": [
    "Something to consider is completely ignoring delegates altogether??? - avoid collisions and errors that we can't foresee"
   ]
  },
  {
   "cell_type": "markdown",
   "metadata": {},
   "source": [
    "Also edge case - speaker pro tempore (could be handled by finding his/her name before using these mods methods)"
   ]
  },
  {
   "cell_type": "code",
   "execution_count": 13,
   "metadata": {
    "collapsed": true
   },
   "outputs": [],
   "source": [
    "def getCongMemberInfoFromMaster(last_name, mods_filename):\n",
    "    info = make_array()\n",
    "    \n",
    "    try:\n",
    "        extension = getCongMemberExtension(master_extensions, last_name)\n",
    "        congMemberTag = getCongMemberTag(extension)\n",
    "    except:\n",
    "        return getcongMemberInfoFromLocal(last_name, mods_filename)\n",
    "    \n",
    "    congMemType = getType(congMemberTag)\n",
    "    district = 'N/A'\n",
    "    if congMemType == 'DELEGATE':\n",
    "        try:\n",
    "            info = getcongMemberInfoFromLocal(last_name, mods_filename)\n",
    "        except:\n",
    "            info = np.append(info, '')\n",
    "            info = np.append(info, '')\n",
    "            info = np.append(info, last_name)\n",
    "    else:\n",
    "        if congMemType == 'REPRESENTATIVE':\n",
    "            try:\n",
    "                district_tag = getDistrictTag(extension)\n",
    "                district = district_tag.string\n",
    "            except:\n",
    "                district = 'N/A'\n",
    "        info = np.append(info, getAuthorityId(congMemberTag))\n",
    "        info = np.append(info, getFirstName(congMemberTag))\n",
    "        info = np.append(info, last_name)\n",
    "        info = np.append(info, congMemType)\n",
    "        info = np.append(info, getParty(congMemberTag))\n",
    "        info = np.append(info, getState(congMemberTag))\n",
    "        info = np.append(info, district)\n",
    "        info = np.append(info, getBioGuideId(congMemberTag))\n",
    "        info = np.append(info, getCongressId(congMemberTag))\n",
    "        \n",
    "        \n",
    "    return info"
   ]
  },
  {
   "cell_type": "code",
   "execution_count": 14,
   "metadata": {},
   "outputs": [
    {
     "data": {
      "text/plain": [
       "array(['2197', 'Bradley', 'Byrne', 'REPRESENTATIVE', 'R', 'AL', '1',\n",
       "       'B001289', '114'],\n",
       "      dtype='<U32')"
      ]
     },
     "execution_count": 14,
     "metadata": {},
     "output_type": "execute_result"
    }
   ],
   "source": [
    "getCongMemberInfoFromMaster('Byrne', 'test_mods.xml')"
   ]
  },
  {
   "cell_type": "code",
   "execution_count": 12,
   "metadata": {
    "collapsed": true
   },
   "outputs": [],
   "source": [
    "def getChamber(congMemberTag):\n",
    "    return congMemberTag.attrs['chamber']"
   ]
  },
  {
   "cell_type": "code",
   "execution_count": 13,
   "metadata": {
    "collapsed": true
   },
   "outputs": [],
   "source": [
    "def getCongMemberInfoFromLocal(last_name, mods_filename):\n",
    "    extension = getCongMemberExtensionFromFile(last_name, mods_filename)\n",
    "    info = make_array()\n",
    "    congMemberTag = getCongMemberTag(extension)\n",
    "    \n",
    "    congMemChamber = getChamber(congMemberTag)\n",
    "    congMemType = 'N/A'\n",
    "    if congMemChamber == 'H':\n",
    "        congMemType = 'REPRESENTATIVE'\n",
    "    elif congMemChamber == 'S':\n",
    "        congMemType = \"SENATOR\"\n",
    "    \n",
    "    district = 'N/A'\n",
    "    if congMemType == 'REPRESENTATIVE':\n",
    "        try:\n",
    "            district_tag = getDistrictTag(extension)\n",
    "            district = district_tag.string\n",
    "        except:\n",
    "            district = 'N/A'\n",
    "            \n",
    "    info = np.append(info, getAuthorityId(congMemberTag))\n",
    "    info = np.append(info, getFirstName(congMemberTag))\n",
    "    info = np.append(info, last_name)\n",
    "    info = np.append(info, congMemType)\n",
    "    info = np.append(info, getParty(congMemberTag))\n",
    "    info = np.append(info, getState(congMemberTag))\n",
    "    info = np.append(info, district)\n",
    "    info = np.append(info, getBioGuideId(congMemberTag))\n",
    "    info = np.append(info, getCongressId(congMemberTag))\n",
    "    return info"
   ]
  },
  {
   "cell_type": "code",
   "execution_count": 23,
   "metadata": {},
   "outputs": [
    {
     "data": {
      "text/plain": [
       "array(['985', 'Ileana', 'Ros-Lehtinen', 'REPRESENTATIVE', 'R', 'FL', 'N/A',\n",
       "       'R000435', '115'],\n",
       "      dtype='<U32')"
      ]
     },
     "execution_count": 23,
     "metadata": {},
     "output_type": "execute_result"
    }
   ],
   "source": [
    "getCongMemberInfoFromLocal('Ros-Lehtinen', 'test_mods.xml')"
   ]
  },
  {
   "cell_type": "code",
   "execution_count": 25,
   "metadata": {
    "collapsed": true
   },
   "outputs": [],
   "source": [
    "test_table = Table().with_columns(\"speaker_id\", make_array(), \n",
    "                                \"first_name\", make_array(), \n",
    "                                \"last_name\", make_array(), \n",
    "                                \"type\" , make_array(),\n",
    "                                \"party\", make_array(), \n",
    "                                \"state\", make_array(), \n",
    "                                \"district\", make_array(),\n",
    "                                \"bio_guide_id\", make_array(),\n",
    "                                \"congress_id\", make_array())"
   ]
  },
  {
   "cell_type": "code",
   "execution_count": null,
   "metadata": {
    "collapsed": true
   },
   "outputs": [],
   "source": [
    "names = ['Byrne', 'blah']\n",
    "filenames = ['lskjak', 'kasjdkvjs']"
   ]
  },
  {
   "cell_type": "code",
   "execution_count": null,
   "metadata": {
    "collapsed": true
   },
   "outputs": [],
   "source": []
  }
 ],
 "metadata": {
  "kernelspec": {
   "display_name": "Python 3",
   "language": "python",
   "name": "python3"
  },
  "language_info": {
   "codemirror_mode": {
    "name": "ipython",
    "version": 3
   },
   "file_extension": ".py",
   "mimetype": "text/x-python",
   "name": "python",
   "nbconvert_exporter": "python",
   "pygments_lexer": "ipython3",
   "version": "3.6.3"
  }
 },
 "nbformat": 4,
 "nbformat_minor": 2
}
