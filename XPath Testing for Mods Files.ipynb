{
 "cells": [
  {
   "cell_type": "code",
   "execution_count": 146,
   "metadata": {},
   "outputs": [],
   "source": [
    "from bs4 import BeautifulSoup as Soup\n",
    "from datascience import *\n",
    "import numpy as np"
   ]
  },
  {
   "cell_type": "code",
   "execution_count": 58,
   "metadata": {},
   "outputs": [],
   "source": [
    "def getAllExtensions(file):\n",
    "    handler = open(file).read()\n",
    "    soup = Soup(handler, \"lxml\")\n",
    "    return soup.find_all('extension')"
   ]
  },
  {
   "cell_type": "code",
   "execution_count": 59,
   "metadata": {},
   "outputs": [],
   "source": [
    "extensions = getAllExtensions(\"mastermods.xml\")"
   ]
  },
  {
   "cell_type": "code",
   "execution_count": 84,
   "metadata": {
    "collapsed": true
   },
   "outputs": [],
   "source": [
    "def getCongMemberExtension(extensions, last_name):\n",
    "    for extension in extensions:\n",
    "        ext = str(extension)\n",
    "        if last_name in ext:\n",
    "            return extension"
   ]
  },
  {
   "cell_type": "code",
   "execution_count": 85,
   "metadata": {},
   "outputs": [],
   "source": [
    "byrnes_info = getCongMemberExtension(extensions, 'Byrne')"
   ]
  },
  {
   "cell_type": "code",
   "execution_count": 107,
   "metadata": {
    "collapsed": true
   },
   "outputs": [],
   "source": [
    "def getCongMemberTag(congMemberExtension):\n",
    "    contents = congMemberExtension.contents\n",
    "    for tag in contents:\n",
    "        tag_str = str(tag)\n",
    "        if 'congmember' in tag_str:\n",
    "            return tag"
   ]
  },
  {
   "cell_type": "code",
   "execution_count": 111,
   "metadata": {},
   "outputs": [],
   "source": [
    "byrneCongTag = getCongMemberTag(byrnes_info)"
   ]
  },
  {
   "cell_type": "code",
   "execution_count": 137,
   "metadata": {},
   "outputs": [
    {
     "name": "stdout",
     "output_type": "stream",
     "text": [
      "{'authorityid': '2197', 'bioguideid': 'B001289', 'chamber': 'H', 'congress': '114', 'party': 'R', 'state': 'AL', 'type': 'REPRESENTATIVE'}\n"
     ]
    }
   ],
   "source": [
    "print(byrneCongTag.attrs)\n",
    "def getParty(congMemberTag):\n",
    "    return congMemberTag.attrs['party']\n",
    "def getType(congMemberTag):\n",
    "    return congMemberTag.attrs['type']\n",
    "def getAuthorityId(congMemberTag):\n",
    "    return congMemberTag.attrs['authorityid']\n",
    "def getBioGuideId(congMemberTag):\n",
    "    return congMemberTag.attrs['bioguideid']\n",
    "def getState(congMemberTag):\n",
    "    return congMemberTag.attrs['state']\n",
    "def getCongress(congMemberTag):\n",
    "    return congMemberTag.attrs['congress']"
   ]
  },
  {
   "cell_type": "code",
   "execution_count": 138,
   "metadata": {},
   "outputs": [
    {
     "data": {
      "text/plain": [
       "'R'"
      ]
     },
     "execution_count": 138,
     "metadata": {},
     "output_type": "execute_result"
    }
   ],
   "source": [
    "getParty(byrneCongTag)"
   ]
  },
  {
   "cell_type": "code",
   "execution_count": 139,
   "metadata": {},
   "outputs": [
    {
     "data": {
      "text/plain": [
       "'REPRESENTATIVE'"
      ]
     },
     "execution_count": 139,
     "metadata": {},
     "output_type": "execute_result"
    }
   ],
   "source": [
    "getType(byrneCongTag)"
   ]
  },
  {
   "cell_type": "code",
   "execution_count": 140,
   "metadata": {},
   "outputs": [
    {
     "data": {
      "text/plain": [
       "'2197'"
      ]
     },
     "execution_count": 140,
     "metadata": {},
     "output_type": "execute_result"
    }
   ],
   "source": [
    "getAuthorityId(byrneCongTag)"
   ]
  },
  {
   "cell_type": "code",
   "execution_count": 141,
   "metadata": {},
   "outputs": [
    {
     "data": {
      "text/plain": [
       "'B001289'"
      ]
     },
     "execution_count": 141,
     "metadata": {},
     "output_type": "execute_result"
    }
   ],
   "source": [
    "getBioGuideId(byrneCongTag)"
   ]
  },
  {
   "cell_type": "code",
   "execution_count": 142,
   "metadata": {},
   "outputs": [
    {
     "data": {
      "text/plain": [
       "'AL'"
      ]
     },
     "execution_count": 142,
     "metadata": {},
     "output_type": "execute_result"
    }
   ],
   "source": [
    "getState(byrneCongTag)"
   ]
  },
  {
   "cell_type": "code",
   "execution_count": 143,
   "metadata": {},
   "outputs": [
    {
     "data": {
      "text/plain": [
       "'114'"
      ]
     },
     "execution_count": 143,
     "metadata": {},
     "output_type": "execute_result"
    }
   ],
   "source": [
    "getCongress(byrneCongTag)"
   ]
  },
  {
   "cell_type": "code",
   "execution_count": 147,
   "metadata": {
    "collapsed": true
   },
   "outputs": [],
   "source": [
    "def getAllCongMemberInfo(last_name):\n",
    "    extension = getCongMemberExtension(extensions, last_name)\n",
    "    info = make_array()\n",
    "    congMemberTag = getCongMemberTag(extension)\n",
    "    info = np.append(info, getAuthorityId(congMemberTag))\n",
    "    info = np.append(info, getBioGuideId(congMemberTag))\n",
    "    info = np.append(info, getParty(congMemberTag))\n",
    "    info = np.append(info, getState(congMemberTag))\n",
    "    info = np.append(info, getType(congMemberTag))\n",
    "    return info"
   ]
  },
  {
   "cell_type": "code",
   "execution_count": 148,
   "metadata": {},
   "outputs": [
    {
     "data": {
      "text/plain": [
       "array(['2197', 'B001289', 'R', 'AL', 'REPRESENTATIVE'],\n",
       "      dtype='<U32')"
      ]
     },
     "execution_count": 148,
     "metadata": {},
     "output_type": "execute_result"
    }
   ],
   "source": [
    "getAllCongMemberInfo('Byrne')"
   ]
  },
  {
   "cell_type": "code",
   "execution_count": null,
   "metadata": {
    "collapsed": true
   },
   "outputs": [],
   "source": []
  }
 ],
 "metadata": {
  "kernelspec": {
   "display_name": "Python 3",
   "language": "python",
   "name": "python3"
  },
  "language_info": {
   "codemirror_mode": {
    "name": "ipython",
    "version": 3
   },
   "file_extension": ".py",
   "mimetype": "text/x-python",
   "name": "python",
   "nbconvert_exporter": "python",
   "pygments_lexer": "ipython3",
   "version": "3.6.3"
  }
 },
 "nbformat": 4,
 "nbformat_minor": 2
}
