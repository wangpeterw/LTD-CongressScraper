{
 "cells": [
  {
   "cell_type": "markdown",
   "metadata": {},
   "source": [
    "# Searchlight"
   ]
  },
  {
   "cell_type": "markdown",
   "metadata": {},
   "source": [
    "## Imports"
   ]
  },
  {
   "cell_type": "code",
   "execution_count": 31,
   "metadata": {
    "collapsed": true
   },
   "outputs": [],
   "source": [
    "import pandas as pd\n",
    "import re\n",
    "import numpy as np\n",
    "from datascience import *\n",
    "import urllib\n",
    "from selenium import webdriver\n",
    "from time import sleep\n",
    "import requests\n",
    "from bs4 import BeautifulSoup as Soup\n",
    "import os"
   ]
  },
  {
   "cell_type": "markdown",
   "metadata": {},
   "source": [
    "## Initialize DataScience Tables"
   ]
  },
  {
   "cell_type": "code",
   "execution_count": 32,
   "metadata": {
    "collapsed": true
   },
   "outputs": [],
   "source": [
    "#Speech Table\n",
    "speeches = Table().with_columns(\"speech_id\", make_array(), \n",
    "                                \"speaker_id\", make_array(), \n",
    "                                \"proceeding_id\", make_array(), \n",
    "                                \"topic_id\", make_array(), \n",
    "                                \"word_count\", make_array(), \n",
    "                                \"speech_text\", make_array(),\n",
    "                                'file_name', make_array())"
   ]
  },
  {
   "cell_type": "code",
   "execution_count": 33,
   "metadata": {},
   "outputs": [
    {
     "data": {
      "text/html": [
       "<table border=\"1\" class=\"dataframe\">\n",
       "    <thead>\n",
       "        <tr>\n",
       "            <th>speech_id</th> <th>speaker_id</th> <th>proceeding_id</th> <th>topic_id</th> <th>word_count</th> <th>speech_text</th> <th>file_name</th>\n",
       "        </tr>\n",
       "    </thead>\n",
       "    <tbody>\n",
       "</table>"
      ],
      "text/plain": [
       "speech_id | speaker_id | proceeding_id | topic_id | word_count | speech_text | file_name"
      ]
     },
     "execution_count": 33,
     "metadata": {},
     "output_type": "execute_result"
    }
   ],
   "source": [
    "speeches"
   ]
  },
  {
   "cell_type": "code",
   "execution_count": 34,
   "metadata": {
    "collapsed": true
   },
   "outputs": [],
   "source": [
    "#Speaker Table\n",
    "speakers = Table().with_columns(\"speaker_id\", make_array(), \n",
    "                                \"first_name\", make_array(), \n",
    "                                \"last_name\", make_array(), \n",
    "                                \"type\" , make_array(),\n",
    "                                \"party\", make_array(), \n",
    "                                \"state\", make_array(), \n",
    "                                \"district\", make_array(),\n",
    "                                \"bio_guide_id\", make_array(),\n",
    "                                \"congress_id\", make_array())"
   ]
  },
  {
   "cell_type": "code",
   "execution_count": 35,
   "metadata": {},
   "outputs": [
    {
     "data": {
      "text/html": [
       "<table border=\"1\" class=\"dataframe\">\n",
       "    <thead>\n",
       "        <tr>\n",
       "            <th>speaker_id</th> <th>first_name</th> <th>last_name</th> <th>type</th> <th>party</th> <th>state</th> <th>district</th> <th>bio_guide_id</th> <th>congress_id</th>\n",
       "        </tr>\n",
       "    </thead>\n",
       "    <tbody>\n",
       "</table>"
      ],
      "text/plain": [
       "speaker_id | first_name | last_name | type | party | state | district | bio_guide_id | congress_id"
      ]
     },
     "execution_count": 35,
     "metadata": {},
     "output_type": "execute_result"
    }
   ],
   "source": [
    "speakers"
   ]
  },
  {
   "cell_type": "code",
   "execution_count": 36,
   "metadata": {
    "collapsed": true
   },
   "outputs": [],
   "source": [
    "topics = Table().with_columns(\"topic_id\", make_array(), \n",
    "                                \"topic_name\", make_array())"
   ]
  },
  {
   "cell_type": "code",
   "execution_count": 37,
   "metadata": {},
   "outputs": [
    {
     "data": {
      "text/html": [
       "<table border=\"1\" class=\"dataframe\">\n",
       "    <thead>\n",
       "        <tr>\n",
       "            <th>topic_id</th> <th>topic_name</th>\n",
       "        </tr>\n",
       "    </thead>\n",
       "    <tbody>\n",
       "</table>"
      ],
      "text/plain": [
       "topic_id | topic_name"
      ]
     },
     "execution_count": 37,
     "metadata": {},
     "output_type": "execute_result"
    }
   ],
   "source": [
    "topics"
   ]
  },
  {
   "cell_type": "code",
   "execution_count": 38,
   "metadata": {
    "collapsed": true
   },
   "outputs": [],
   "source": [
    "#Proceedings Table\n",
    "proceedings = Table().with_columns(\"proceeding_id\", make_array(), \n",
    "                              \"date\", make_array(),\n",
    "                              \"title\", make_array())"
   ]
  },
  {
   "cell_type": "code",
   "execution_count": 39,
   "metadata": {},
   "outputs": [
    {
     "data": {
      "text/html": [
       "<table border=\"1\" class=\"dataframe\">\n",
       "    <thead>\n",
       "        <tr>\n",
       "            <th>proceeding_id</th> <th>date</th> <th>title</th>\n",
       "        </tr>\n",
       "    </thead>\n",
       "    <tbody>\n",
       "</table>"
      ],
      "text/plain": [
       "proceeding_id | date | title"
      ]
     },
     "execution_count": 39,
     "metadata": {},
     "output_type": "execute_result"
    }
   ],
   "source": [
    "proceedings"
   ]
  },
  {
   "cell_type": "markdown",
   "metadata": {
    "collapsed": true
   },
   "source": [
    "## Initializing Parsing"
   ]
  },
  {
   "cell_type": "markdown",
   "metadata": {},
   "source": [
    "### Text Parsing"
   ]
  },
  {
   "cell_type": "code",
   "execution_count": 40,
   "metadata": {
    "collapsed": true
   },
   "outputs": [],
   "source": [
    "def remove_space(regex):\n",
    "    return regex.group().replace(' ', '')"
   ]
  },
  {
   "cell_type": "code",
   "execution_count": 41,
   "metadata": {
    "collapsed": true
   },
   "outputs": [],
   "source": [
    "def sep_speech(string):\n",
    "    parse_file = ''\n",
    "    with open(string) as file:\n",
    "        for line in file:\n",
    "            parse_file += line\n",
    "    parse_file = parse_file.replace('\\n', '')\n",
    "#     parse_file = parse_file.replace('Mr. President', 'MrPresident')\n",
    "#     parse_file = parse_file.replace('Mr. Short', 'Mr.Short')\n",
    "    parse_file = re.sub('Mr. [A-Z][a-z]', remove_space, parse_file)\n",
    "    \n",
    "    split = re.split(r'Mr. |Ms. |Mrs. ', parse_file)\n",
    "    split.pop(0)\n",
    "    name_and_speech = make_array()\n",
    "    for i in np.arange(len(split)):\n",
    "        try:\n",
    "            lastname = re.match('[A-Z]*\\. ', split[i]).group(0)[:-2]\n",
    "            name_and_speech = np.append(name_and_speech, lastname)\n",
    "            value = re.sub('[A-Z]\\w*\\. ', '', split[i])\n",
    "            name_and_speech = np.append(name_and_speech, value)\n",
    "        except:\n",
    "            abcabcabc = 1\n",
    "    return name_and_speech"
   ]
  },
  {
   "cell_type": "code",
   "execution_count": 42,
   "metadata": {
    "collapsed": true
   },
   "outputs": [],
   "source": [
    "def sep_date_from_file(file):\n",
    "    abcdef = re.findall('[0-9]{4}-[0-9]{2}-[0-9]{2}', file)\n",
    "    return re.split('-', abcdef[0])"
   ]
  },
  {
   "cell_type": "code",
   "execution_count": 43,
   "metadata": {
    "collapsed": true
   },
   "outputs": [],
   "source": [
    "def find_title(file_name):\n",
    "    parse_file = ''\n",
    "    with open(string) as file:\n",
    "        for line in file:\n",
    "            parse_file += line\n",
    "    parse_file = parse_file.replace('Mr. President', 'MrPresident')\n",
    "    title = re.findall('[A-Z \\'-]+[A-Z0-9-,\\. ]*[Continued]*\\\\n', parse_file)\n",
    "    return title[0].strip()"
   ]
  },
  {
   "cell_type": "markdown",
   "metadata": {},
   "source": [
    "### Mods Parsing"
   ]
  },
  {
   "cell_type": "code",
   "execution_count": 44,
   "metadata": {
    "collapsed": true
   },
   "outputs": [],
   "source": [
    "def getAllExtensions(file):\n",
    "    handler = open(file).read()\n",
    "    soup = Soup(handler, \"lxml\")\n",
    "    return soup.find_all('extension')"
   ]
  },
  {
   "cell_type": "code",
   "execution_count": 45,
   "metadata": {
    "collapsed": true
   },
   "outputs": [],
   "source": [
    "master_extensions = getAllExtensions(\"mastermods.xml\")"
   ]
  },
  {
   "cell_type": "code",
   "execution_count": 46,
   "metadata": {
    "collapsed": true
   },
   "outputs": [],
   "source": [
    "def getCongMemberExtension(extensions, last_name):\n",
    "    for extension in extensions:\n",
    "        ext = str(extension)\n",
    "        if last_name in ext:\n",
    "            return extension"
   ]
  },
  {
   "cell_type": "code",
   "execution_count": 47,
   "metadata": {
    "collapsed": true
   },
   "outputs": [],
   "source": [
    "def getCongMemberExtensionFromFile(last_name, filename):\n",
    "    handler = open(filename).read()\n",
    "    soup = Soup(handler, \"lxml\")\n",
    "    extensions = soup.find_all('extension')\n",
    "    for extension in extensions:\n",
    "        ext = str(extension)\n",
    "        if last_name in ext:\n",
    "            return extension"
   ]
  },
  {
   "cell_type": "code",
   "execution_count": 48,
   "metadata": {
    "collapsed": true
   },
   "outputs": [],
   "source": [
    "def getCongMemberTag(congMemberExtension):\n",
    "    contents = congMemberExtension.contents\n",
    "    for tag in contents:\n",
    "        tag_str = str(tag)\n",
    "        if 'congmember' in tag_str:\n",
    "            return tag"
   ]
  },
  {
   "cell_type": "code",
   "execution_count": 49,
   "metadata": {
    "collapsed": true
   },
   "outputs": [],
   "source": [
    "def getParty(congMemberTag):\n",
    "    return congMemberTag.attrs['party']\n",
    "def getType(congMemberTag):\n",
    "    return congMemberTag.attrs['type']\n",
    "def getAuthorityId(congMemberTag):\n",
    "    return congMemberTag.attrs['authorityid']\n",
    "def getBioGuideId(congMemberTag):\n",
    "    return congMemberTag.attrs['bioguideid']\n",
    "def getState(congMemberTag):\n",
    "    return congMemberTag.attrs['state']\n",
    "def getCongressId(congMemberTag):\n",
    "    return congMemberTag.attrs['congress']"
   ]
  },
  {
   "cell_type": "code",
   "execution_count": 50,
   "metadata": {
    "collapsed": true
   },
   "outputs": [],
   "source": [
    "def getDistrictTag(congMemberExtension):\n",
    "    contents = congMemberExtension.contents\n",
    "    for tag in contents:\n",
    "        tag_str = str(tag)\n",
    "        if 'district' in tag_str:\n",
    "            return tag"
   ]
  },
  {
   "cell_type": "code",
   "execution_count": 51,
   "metadata": {
    "collapsed": true
   },
   "outputs": [],
   "source": [
    "def getFirstName(congMemberTag):\n",
    "    contents = congMemberTag.contents\n",
    "    name_tags = []\n",
    "    for tag in contents:\n",
    "        tag_str = str(tag)\n",
    "        if 'name' in tag_str:\n",
    "            name_tags += [tag]\n",
    "    try:\n",
    "        first_name = name_tags[1].string.split()[0]\n",
    "    except:\n",
    "        first_name = None\n",
    "    return first_name"
   ]
  },
  {
   "cell_type": "code",
   "execution_count": 52,
   "metadata": {
    "collapsed": true
   },
   "outputs": [],
   "source": [
    "def getCongMemberInfoFromMaster(last_name, mods_filename):\n",
    "    info = make_array()\n",
    "    if last_name == 'BORDALLO' or last_name == 'CAPITO':\n",
    "        return getCongMemberInfoFromLocal(last_name, mods_filename)\n",
    "    try:\n",
    "        extension = getCongMemberExtension(master_extensions, last_name)\n",
    "        if extension is None:\n",
    "            return getCongMemberInfoFromLocal(last_name, mods_filename)\n",
    "        congMemberTag = getCongMemberTag(extension)\n",
    "    except:\n",
    "        return getCongMemberInfoFromLocal(last_name, mods_filename)\n",
    "    \n",
    "    \n",
    "    \n",
    "    congMemType = getType(congMemberTag)\n",
    "    district = 'N/A'\n",
    "    if congMemType == 'DELEGATE':\n",
    "        try:\n",
    "            info = getcongMemberInfoFromLocal(last_name, mods_filename)\n",
    "        except:\n",
    "            info = [99999999999999, 'First Name unavailable', last_name, congMemType, 'Party Info Unavailable','state info unavailable', district, 'BioGuideID unavailable', 'CongressID unavailable']\n",
    "    else:\n",
    "        if congMemType == 'REPRESENTATIVE':\n",
    "            try:\n",
    "                district_tag = getDistrictTag(extension)\n",
    "                district = district_tag.string\n",
    "            except:\n",
    "                district = 'N/A'\n",
    "    try:\n",
    "        bioGuideID = getBioGuideId(congMemberTag)\n",
    "    except:\n",
    "        bioGuideID = 99999999999999999\n",
    "    info = [getAuthorityId(congMemberTag), getFirstName(congMemberTag), last_name, congMemType, getParty(congMemberTag), getState(congMemberTag), district, bioGuideID, getCongressId(congMemberTag) ]\n",
    "        \n",
    "    return info"
   ]
  },
  {
   "cell_type": "code",
   "execution_count": 53,
   "metadata": {
    "collapsed": true
   },
   "outputs": [],
   "source": [
    "def getChamber(congMemberTag):\n",
    "    return congMemberTag.attrs['chamber']"
   ]
  },
  {
   "cell_type": "code",
   "execution_count": 54,
   "metadata": {
    "collapsed": true
   },
   "outputs": [],
   "source": [
    "def getCongMemberInfoFromLocal(last_name, mods_filename):\n",
    "    print('checking local file')\n",
    "    extension = getCongMemberExtensionFromFile(last_name, mods_filename)\n",
    "    info = make_array()\n",
    "    congMemberTag = getCongMemberTag(extension)\n",
    "    \n",
    "    congMemChamber = getChamber(congMemberTag)\n",
    "    congMemType = 'N/A'\n",
    "    if congMemChamber == 'H':\n",
    "        congMemType = 'REPRESENTATIVE'\n",
    "    elif congMemChamber == 'S':\n",
    "        congMemType = \"SENATOR\"\n",
    "    \n",
    "    district = 'N/A'\n",
    "    if congMemType == 'REPRESENTATIVE':\n",
    "        try:\n",
    "            district_tag = getDistrictTag(extension)\n",
    "            district = district_tag.string\n",
    "        except:\n",
    "            district = 'N/A'\n",
    "            \n",
    "#     info = np.append(info, getAuthorityId(congMemberTag))\n",
    "#     info = np.append(info, getFirstName(congMemberTag))\n",
    "#     info = np.append(info, last_name)\n",
    "#     info = np.append(info, congMemType)\n",
    "#     info = np.append(info, getParty(congMemberTag))\n",
    "#     info = np.append(info, getState(congMemberTag))\n",
    "#     info = np.append(info, district)\n",
    "#     info = np.append(info, getBioGuideId(congMemberTag))\n",
    "#     info = np.append(info, getCongressId(congMemberTag))\n",
    "    try:\n",
    "        authID = getAuthorityId(congMemberTag)\n",
    "    except:\n",
    "        authID = 99999999999999\n",
    "    try:\n",
    "        party = getParty(congMemberTag)\n",
    "    except:\n",
    "        party = 'Party information Unavailable'\n",
    "    try:\n",
    "        state = getState(congMemberTag)\n",
    "    except:\n",
    "        state = 'State Info Unavailable'\n",
    "    try:\n",
    "        bioID = getBioGuideId(congMemberTag)\n",
    "    except:\n",
    "        bioID = 9999999999999999\n",
    "    info = [authID, getFirstName(congMemberTag), last_name, congMemType, party, state, district, bioID, getCongressId(congMemberTag) ]\n",
    "    return info"
   ]
  },
  {
   "cell_type": "markdown",
   "metadata": {},
   "source": [
    "## Parsing"
   ]
  },
  {
   "cell_type": "code",
   "execution_count": 64,
   "metadata": {},
   "outputs": [
    {
     "name": "stdout",
     "output_type": "stream",
     "text": [
      "CREC-2018-03-15-pt1-PgH1653-14.txt\n"
     ]
    },
    {
     "ename": "FileNotFoundError",
     "evalue": "[Errno 2] No such file or directory: 'CREC-2018-03-15-pt1-PgH1653-14.txt'",
     "output_type": "error",
     "traceback": [
      "\u001b[0;31m---------------------------------------------------------------------------\u001b[0m",
      "\u001b[0;31mFileNotFoundError\u001b[0m                         Traceback (most recent call last)",
      "\u001b[0;32m<ipython-input-64-4b94997a20e2>\u001b[0m in \u001b[0;36m<module>\u001b[0;34m()\u001b[0m\n\u001b[1;32m      4\u001b[0m     \u001b[0mprint\u001b[0m\u001b[0;34m(\u001b[0m\u001b[0mfile\u001b[0m\u001b[0;34m)\u001b[0m\u001b[0;34m\u001b[0m\u001b[0m\n\u001b[1;32m      5\u001b[0m     \u001b[0;32mif\u001b[0m \u001b[0mfile\u001b[0m\u001b[0;34m.\u001b[0m\u001b[0mendswith\u001b[0m\u001b[0;34m(\u001b[0m\u001b[0;34m\".txt\"\u001b[0m\u001b[0;34m)\u001b[0m\u001b[0;34m:\u001b[0m\u001b[0;34m\u001b[0m\u001b[0m\n\u001b[0;32m----> 6\u001b[0;31m         \u001b[0mseparated\u001b[0m \u001b[0;34m=\u001b[0m \u001b[0msep_speech\u001b[0m\u001b[0;34m(\u001b[0m\u001b[0mfile\u001b[0m\u001b[0;34m)\u001b[0m\u001b[0;34m\u001b[0m\u001b[0m\n\u001b[0m\u001b[1;32m      7\u001b[0m         \u001b[0mi\u001b[0m \u001b[0;34m=\u001b[0m \u001b[0;36m0\u001b[0m\u001b[0;34m\u001b[0m\u001b[0m\n\u001b[1;32m      8\u001b[0m         \u001b[0;32mwhile\u001b[0m \u001b[0mi\u001b[0m \u001b[0;34m<\u001b[0m \u001b[0mlen\u001b[0m\u001b[0;34m(\u001b[0m\u001b[0mseparated\u001b[0m\u001b[0;34m)\u001b[0m\u001b[0;34m:\u001b[0m\u001b[0;34m\u001b[0m\u001b[0m\n",
      "\u001b[0;32m<ipython-input-41-266f319956ba>\u001b[0m in \u001b[0;36msep_speech\u001b[0;34m(string)\u001b[0m\n\u001b[1;32m      1\u001b[0m \u001b[0;32mdef\u001b[0m \u001b[0msep_speech\u001b[0m\u001b[0;34m(\u001b[0m\u001b[0mstring\u001b[0m\u001b[0;34m)\u001b[0m\u001b[0;34m:\u001b[0m\u001b[0;34m\u001b[0m\u001b[0m\n\u001b[1;32m      2\u001b[0m     \u001b[0mparse_file\u001b[0m \u001b[0;34m=\u001b[0m \u001b[0;34m''\u001b[0m\u001b[0;34m\u001b[0m\u001b[0m\n\u001b[0;32m----> 3\u001b[0;31m     \u001b[0;32mwith\u001b[0m \u001b[0mopen\u001b[0m\u001b[0;34m(\u001b[0m\u001b[0mstring\u001b[0m\u001b[0;34m)\u001b[0m \u001b[0;32mas\u001b[0m \u001b[0mfile\u001b[0m\u001b[0;34m:\u001b[0m\u001b[0;34m\u001b[0m\u001b[0m\n\u001b[0m\u001b[1;32m      4\u001b[0m         \u001b[0;32mfor\u001b[0m \u001b[0mline\u001b[0m \u001b[0;32min\u001b[0m \u001b[0mfile\u001b[0m\u001b[0;34m:\u001b[0m\u001b[0;34m\u001b[0m\u001b[0m\n\u001b[1;32m      5\u001b[0m             \u001b[0mparse_file\u001b[0m \u001b[0;34m+=\u001b[0m \u001b[0mline\u001b[0m\u001b[0;34m\u001b[0m\u001b[0m\n",
      "\u001b[0;31mFileNotFoundError\u001b[0m: [Errno 2] No such file or directory: 'CREC-2018-03-15-pt1-PgH1653-14.txt'"
     ]
    }
   ],
   "source": [
    "#Populate the Speech Table\n",
    "count = 0\n",
    "for file in os.listdir(\"/Users/halliday/Desktop/scrape4\"): #change directory once we have everything\n",
    "    print(file)\n",
    "    if file.endswith(\".txt\"):\n",
    "        separated = sep_speech(file)\n",
    "        i = 0\n",
    "        while i < len(separated):\n",
    "            row = make_array()\n",
    "            text = separated[i+1]\n",
    "            text = text.replace('MrPresident', 'Mr. President')\n",
    "            if len(text) > 30:\n",
    "                row = [count, separated[i], 'proceeding_id', 'topic-id', len(text.split()), text, file] \n",
    "                count += 1\n",
    "                speeches = speeches.with_row(row)     \n",
    "            i +=2\n",
    "        count+= 1\n",
    "        print('finished with file ', count)"
   ]
  },
  {
   "cell_type": "code",
   "execution_count": 235,
   "metadata": {},
   "outputs": [
    {
     "data": {
      "text/html": [
       "<table border=\"1\" class=\"dataframe\">\n",
       "    <thead>\n",
       "        <tr>\n",
       "            <th>speech_id</th> <th>speaker_id</th> <th>proceeding_id</th> <th>topic_id</th> <th>word_count</th> <th>speech_text</th> <th>file_name</th>\n",
       "        </tr>\n",
       "    </thead>\n",
       "    <tbody>\n",
       "        <tr>\n",
       "            <td>48       </td> <td>CORNYN    </td> <td>proceeding_id</td> <td>topic-id</td> <td>2309      </td> <td>Mr.President, many recall that Christmas came a little e ...</td> <td>CREC-2018-01-03-pt2-PgS10.txt  </td>\n",
       "        </tr>\n",
       "    </tbody>\n",
       "        <tr>\n",
       "            <td>49       </td> <td>DURBIN    </td> <td>proceeding_id</td> <td>topic-id</td> <td>25        </td> <td>Mr.President, I ask unanimous consent that the order for ...</td> <td>CREC-2018-01-03-pt2-PgS10.txt  </td>\n",
       "        </tr>\n",
       "    </tbody>\n",
       "        <tr>\n",
       "            <td>51       </td> <td>DURBIN    </td> <td>proceeding_id</td> <td>topic-id</td> <td>893       </td> <td>Mr.President, on September 5 of last year, Attorney Gene ...</td> <td>CREC-2018-01-03-pt2-PgS11.txt  </td>\n",
       "        </tr>\n",
       "    </tbody>\n",
       "        <tr>\n",
       "            <td>52       </td> <td>WHITEHOUSE</td> <td>proceeding_id</td> <td>topic-id</td> <td>23        </td> <td>Mr.President, I ask unanimous consent that the order for ...</td> <td>CREC-2018-01-03-pt2-PgS11.txt  </td>\n",
       "        </tr>\n",
       "    </tbody>\n",
       "        <tr>\n",
       "            <td>54       </td> <td>WHITEHOUSE</td> <td>proceeding_id</td> <td>topic-id</td> <td>2035      </td> <td>Thank you, Mr.President, and happy new year to you.  For ...</td> <td>CREC-2018-01-03-pt2-PgS13.txt  </td>\n",
       "        </tr>\n",
       "    </tbody>\n",
       "        <tr>\n",
       "            <td>55       </td> <td>INHOFE    </td> <td>proceeding_id</td> <td>topic-id</td> <td>22        </td> <td>Mr.President, I ask unanimous consent that the order for ...</td> <td>CREC-2018-01-03-pt2-PgS13.txt  </td>\n",
       "        </tr>\n",
       "    </tbody>\n",
       "        <tr>\n",
       "            <td>56       </td> <td>INHOFE    </td> <td>proceeding_id</td> <td>topic-id</td> <td>25        </td> <td>Mr.President, I ask unanimous consent to speak in mornin ...</td> <td>CREC-2018-01-03-pt2-PgS13.txt  </td>\n",
       "        </tr>\n",
       "    </tbody>\n",
       "        <tr>\n",
       "            <td>57       </td> <td>INHOFE    </td> <td>proceeding_id</td> <td>topic-id</td> <td>1673      </td> <td>Mr.President, I begin by wishing everyone a happy new ye ...</td> <td>CREC-2018-01-03-pt2-PgS13.txt  </td>\n",
       "        </tr>\n",
       "    </tbody>\n",
       "        <tr>\n",
       "            <td>59       </td> <td>INHOFE    </td> <td>proceeding_id</td> <td>topic-id</td> <td>1682      </td> <td>Mr.President, I mentioned that there were three things I ...</td> <td>CREC-2018-01-03-pt2-PgS16-2.txt</td>\n",
       "        </tr>\n",
       "    </tbody>\n",
       "        <tr>\n",
       "            <td>60       </td> <td>INHOFE    </td> <td>proceeding_id</td> <td>topic-id</td> <td>10        </td> <td>I yield the floor.  The PRESIDING The Senator from       ...</td> <td>CREC-2018-01-03-pt2-PgS16-2.txt</td>\n",
       "        </tr>\n",
       "    </tbody>\n",
       "</table>\n",
       "<p>... (573 rows omitted)</p>"
      ],
      "text/plain": [
       "speech_id | speaker_id | proceeding_id | topic_id | word_count | speech_text                                                  | file_name\n",
       "48        | CORNYN     | proceeding_id | topic-id | 2309       | Mr.President, many recall that Christmas came a little e ... | CREC-2018-01-03-pt2-PgS10.txt\n",
       "49        | DURBIN     | proceeding_id | topic-id | 25         | Mr.President, I ask unanimous consent that the order for ... | CREC-2018-01-03-pt2-PgS10.txt\n",
       "51        | DURBIN     | proceeding_id | topic-id | 893        | Mr.President, on September 5 of last year, Attorney Gene ... | CREC-2018-01-03-pt2-PgS11.txt\n",
       "52        | WHITEHOUSE | proceeding_id | topic-id | 23         | Mr.President, I ask unanimous consent that the order for ... | CREC-2018-01-03-pt2-PgS11.txt\n",
       "54        | WHITEHOUSE | proceeding_id | topic-id | 2035       | Thank you, Mr.President, and happy new year to you.  For ... | CREC-2018-01-03-pt2-PgS13.txt\n",
       "55        | INHOFE     | proceeding_id | topic-id | 22         | Mr.President, I ask unanimous consent that the order for ... | CREC-2018-01-03-pt2-PgS13.txt\n",
       "56        | INHOFE     | proceeding_id | topic-id | 25         | Mr.President, I ask unanimous consent to speak in mornin ... | CREC-2018-01-03-pt2-PgS13.txt\n",
       "57        | INHOFE     | proceeding_id | topic-id | 1673       | Mr.President, I begin by wishing everyone a happy new ye ... | CREC-2018-01-03-pt2-PgS13.txt\n",
       "59        | INHOFE     | proceeding_id | topic-id | 1682       | Mr.President, I mentioned that there were three things I ... | CREC-2018-01-03-pt2-PgS16-2.txt\n",
       "60        | INHOFE     | proceeding_id | topic-id | 10         | I yield the floor.  The PRESIDING The Senator from       ... | CREC-2018-01-03-pt2-PgS16-2.txt\n",
       "... (573 rows omitted)"
      ]
     },
     "execution_count": 235,
     "metadata": {},
     "output_type": "execute_result"
    }
   ],
   "source": [
    "speeches"
   ]
  },
  {
   "cell_type": "code",
   "execution_count": 236,
   "metadata": {},
   "outputs": [
    {
     "data": {
      "text/html": [
       "<table border=\"1\" class=\"dataframe\">\n",
       "    <thead>\n",
       "        <tr>\n",
       "            <th>speech_id</th> <th>speaker_id</th> <th>proceeding_id</th> <th>topic_id</th> <th>word_count</th> <th>speech_text</th> <th>file_name</th>\n",
       "        </tr>\n",
       "    </thead>\n",
       "    <tbody>\n",
       "        <tr>\n",
       "            <td>698      </td> <td>BORDALLO  </td> <td>proceeding_id</td> <td>topic-id</td> <td>142       </td> <td>Mr.Speaker, today I am proud to reintroduce my Compact I ...</td> <td>CREC-2018-01-10-pt1-PgH91-7.txt</td>\n",
       "        </tr>\n",
       "    </tbody>\n",
       "</table>"
      ],
      "text/plain": [
       "speech_id | speaker_id | proceeding_id | topic_id | word_count | speech_text                                                  | file_name\n",
       "698       | BORDALLO   | proceeding_id | topic-id | 142        | Mr.Speaker, today I am proud to reintroduce my Compact I ... | CREC-2018-01-10-pt1-PgH91-7.txt"
      ]
     },
     "execution_count": 236,
     "metadata": {},
     "output_type": "execute_result"
    }
   ],
   "source": [
    "speeches.where('speaker_id', are.equal_to('BORDALLO'))"
   ]
  },
  {
   "cell_type": "code",
   "execution_count": 237,
   "metadata": {
    "collapsed": true
   },
   "outputs": [],
   "source": [
    "#create dictionairy of unique last names to files\n",
    "distinct_lastname_table = speeches.group('speaker_id')\n",
    "lastname_file_table = speeches.join('speaker_id', distinct_lastname_table, 'speaker_id')\n",
    "lastname_file_table = lastname_file_table.drop('count').drop('speech_id').drop('proceeding_id').drop('topic_id').drop('word_count').drop('speech_text')\n",
    "name_to_xml = {}\n",
    "lastnames = lastname_file_table.column(0)\n",
    "files = lastname_file_table.column(1)\n",
    "count = 0\n",
    "while count < len(lastnames):\n",
    "    name_to_xml[lastnames[count]] = files[count].replace('.txt', '.xml')\n",
    "    count += 1"
   ]
  },
  {
   "cell_type": "code",
   "execution_count": 238,
   "metadata": {},
   "outputs": [
    {
     "name": "stdout",
     "output_type": "stream",
     "text": [
      "ALEXANDER\n",
      "ALLEN\n",
      "AMASH\n",
      "BABIN\n",
      "BARRASSO\n",
      "BEYER\n",
      "BIGGS\n",
      "checking local file\n",
      "BILIRAKIS\n",
      "BLUMENAUER\n",
      "BLUMENTHAL\n",
      "BLUNT\n",
      "BOOKER\n",
      "BOOZMAN\n",
      "BORDALLO\n",
      "checking local file\n",
      "BOST\n",
      "BROWN\n",
      "BUCK\n",
      "BUCSHON\n",
      "BUDD\n",
      "BURGESS\n",
      "BURR\n",
      "CAPITO\n",
      "checking local file\n",
      "CARDENAS\n",
      "CARDIN\n",
      "CASSIDY\n",
      "CHABOT\n",
      "CHENEY\n",
      "checking local file\n",
      "CICILLINE\n",
      "COLE\n",
      "COLLINS\n",
      "CONAWAY\n",
      "CORKER\n",
      "CORNYN\n",
      "CORREA\n",
      "checking local file\n",
      "COSTA\n",
      "COURTNEY\n",
      "CRAMER\n",
      "CULBERSON\n",
      "CURTIS\n",
      "checking local file\n",
      "DAINES\n",
      "DAVIDSON\n",
      "checking local file\n",
      "DEMINGS\n",
      "checking local file\n",
      "DEUTCH\n",
      "DONNELLY\n",
      "DONOVAN\n",
      "DUNN\n",
      "checking local file\n",
      "DURBIN\n",
      "EMMER\n",
      "ERNST\n",
      "ESPAILLAT\n",
      "checking local file\n",
      "FITZPATRICK\n",
      "FLAKE\n",
      "FOXX\n",
      "GABBARD\n",
      "GALLAGHER\n",
      "checking local file\n",
      "GARAMENDI\n",
      "GARDNER\n",
      "checking local file\n",
      "GARRETT\n",
      "GIANFORTE\n",
      "checking local file\n",
      "GOHMERT\n",
      "GOMEZ\n",
      "checking local file\n",
      "GOODLATTE\n",
      "GOTTHEIMER\n",
      "checking local file\n",
      "GRIJALVA\n",
      "GUTIERREZ\n",
      "HASTINGS\n",
      "HATCH\n",
      "HECK\n",
      "HEINRICH\n",
      "HILL\n",
      "HIMES\n",
      "HIRONO\n",
      "HOEVEN\n",
      "HOYER\n",
      "HUFFMAN\n",
      "INHOFE\n",
      "ISAKSON\n",
      "JAYAPAL\n",
      "checking local file\n",
      "JEFFRIES\n",
      "KAINE\n",
      "KAPTUR\n",
      "KATKO\n",
      "KEATING\n",
      "KENNEDY\n",
      "KIHUEN\n",
      "checking local file\n",
      "KILDEE\n",
      "KLOBUCHAR\n",
      "LANGEVIN\n",
      "LANKFORD\n",
      "LAWRENCE\n",
      "LEAHY\n",
      "LEE\n",
      "LOFGREN\n",
      "MARINO\n",
      "MARSHALL\n",
      "checking local file\n",
      "MEEHAN\n",
      "MENENDEZ\n",
      "MERKLEY\n",
      "MITCHELL\n",
      "checking local file\n",
      "MORAN\n",
      "MURKOWSKI\n",
      "MURPHY\n",
      "MURRAY\n",
      "NADLER\n",
      "NELSON\n",
      "NEWHOUSE\n",
      "NOEM\n",
      "NORCROSS\n",
      "NUNES\n",
      "OLSON\n",
      "PALAZZO\n",
      "PANETTA\n",
      "checking local file\n",
      "PAULSEN\n",
      "PAYNE\n",
      "PEARCE\n",
      "PELOSI\n",
      "PERDUE\n",
      "PERRY\n",
      "PETERS\n",
      "PITTENGER\n",
      "POCAN\n",
      "POLIS\n",
      "PORTMAN\n",
      "REED\n",
      "REICHERT\n",
      "ROHRABACHER\n",
      "ROKITA\n",
      "ROSEN\n",
      "checking local file\n",
      "ROTHFUS\n",
      "ROUZER\n",
      "RUBIO\n",
      "RUIZ\n",
      "RUPPERSBERGER\n",
      "RUTHERFORD\n",
      "checking local file\n",
      "SABLAN\n",
      "SANDERS\n",
      "SCHAKOWSKY\n",
      "SCHATZ\n",
      "SCHIFF\n",
      "SCHNEIDER\n",
      "checking local file\n",
      "SCHRADER\n",
      "SCHUMER\n",
      "SENSENBRENNER\n",
      "SHAHEEN\n",
      "SHERMAN\n",
      "SMUCKER\n",
      "checking local file\n",
      "SOTO\n",
      "checking local file\n",
      "STEFANIK\n",
      "STEWART\n",
      "SULLIVAN\n",
      "SUOZZI\n",
      "checking local file\n",
      "TAKANO\n",
      "TENNEY\n",
      "checking local file\n",
      "THUNE\n",
      "TIBERI\n",
      "TILLIS\n",
      "TONKO\n",
      "VELA\n",
      "WAGNER\n",
      "WALBERG\n",
      "WALZ\n",
      "WARNER\n",
      "WARREN\n",
      "WENSTRUP\n",
      "WHITEHOUSE\n",
      "YODER\n",
      "YOHO\n",
      "ZELDIN\n"
     ]
    },
    {
     "data": {
      "text/html": [
       "<table border=\"1\" class=\"dataframe\">\n",
       "    <thead>\n",
       "        <tr>\n",
       "            <th>speaker_id</th> <th>first_name</th> <th>last_name</th> <th>type</th> <th>party</th> <th>state</th> <th>district</th> <th>bio_guide_id</th> <th>congress_id</th>\n",
       "        </tr>\n",
       "    </thead>\n",
       "    <tbody>\n",
       "        <tr>\n",
       "            <td>1695      </td> <td>Lamar     </td> <td>ALEXANDER</td> <td>SENATOR       </td> <td>R    </td> <td>TN   </td> <td>N/A     </td> <td>A000360     </td> <td>114        </td>\n",
       "        </tr>\n",
       "    </tbody>\n",
       "        <tr>\n",
       "            <td>2239      </td> <td>Rick      </td> <td>ALLEN    </td> <td>REPRESENTATIVE</td> <td>R    </td> <td>GA   </td> <td>12      </td> <td>A000372     </td> <td>114        </td>\n",
       "        </tr>\n",
       "    </tbody>\n",
       "        <tr>\n",
       "            <td>2029      </td> <td>Justin    </td> <td>AMASH    </td> <td>REPRESENTATIVE</td> <td>R    </td> <td>MI   </td> <td>3       </td> <td>A000367     </td> <td>114        </td>\n",
       "        </tr>\n",
       "    </tbody>\n",
       "        <tr>\n",
       "            <td>2270      </td> <td>Brian     </td> <td>BABIN    </td> <td>REPRESENTATIVE</td> <td>R    </td> <td>TX   </td> <td>36      </td> <td>B001291     </td> <td>114        </td>\n",
       "        </tr>\n",
       "    </tbody>\n",
       "        <tr>\n",
       "            <td>1881      </td> <td>John      </td> <td>BARRASSO </td> <td>SENATOR       </td> <td>R    </td> <td>WY   </td> <td>N/A     </td> <td>B001261     </td> <td>114        </td>\n",
       "        </tr>\n",
       "    </tbody>\n",
       "</table>\n",
       "<p>... (163 rows omitted)</p>"
      ],
      "text/plain": [
       "<IPython.core.display.HTML object>"
      ]
     },
     "metadata": {},
     "output_type": "display_data"
    },
    {
     "data": {
      "text/html": [
       "<table border=\"1\" class=\"dataframe\">\n",
       "    <thead>\n",
       "        <tr>\n",
       "            <th>speech_id</th> <th>speaker_id</th> <th>proceeding_id</th> <th>topic_id</th> <th>word_count</th> <th>speech_text</th> <th>file_name</th>\n",
       "        </tr>\n",
       "    </thead>\n",
       "    <tbody>\n",
       "        <tr>\n",
       "            <td>48       </td> <td>CORNYN    </td> <td>proceeding_id</td> <td>topic-id</td> <td>2309      </td> <td>Mr.President, many recall that Christmas came a little e ...</td> <td>CREC-2018-01-03-pt2-PgS10.txt</td>\n",
       "        </tr>\n",
       "    </tbody>\n",
       "        <tr>\n",
       "            <td>49       </td> <td>DURBIN    </td> <td>proceeding_id</td> <td>topic-id</td> <td>25        </td> <td>Mr.President, I ask unanimous consent that the order for ...</td> <td>CREC-2018-01-03-pt2-PgS10.txt</td>\n",
       "        </tr>\n",
       "    </tbody>\n",
       "        <tr>\n",
       "            <td>51       </td> <td>DURBIN    </td> <td>proceeding_id</td> <td>topic-id</td> <td>893       </td> <td>Mr.President, on September 5 of last year, Attorney Gene ...</td> <td>CREC-2018-01-03-pt2-PgS11.txt</td>\n",
       "        </tr>\n",
       "    </tbody>\n",
       "        <tr>\n",
       "            <td>52       </td> <td>WHITEHOUSE</td> <td>proceeding_id</td> <td>topic-id</td> <td>23        </td> <td>Mr.President, I ask unanimous consent that the order for ...</td> <td>CREC-2018-01-03-pt2-PgS11.txt</td>\n",
       "        </tr>\n",
       "    </tbody>\n",
       "        <tr>\n",
       "            <td>54       </td> <td>WHITEHOUSE</td> <td>proceeding_id</td> <td>topic-id</td> <td>2035      </td> <td>Thank you, Mr.President, and happy new year to you.  For ...</td> <td>CREC-2018-01-03-pt2-PgS13.txt</td>\n",
       "        </tr>\n",
       "    </tbody>\n",
       "</table>\n",
       "<p>... (578 rows omitted)</p>"
      ],
      "text/plain": [
       "<IPython.core.display.HTML object>"
      ]
     },
     "metadata": {},
     "output_type": "display_data"
    }
   ],
   "source": [
    "#Populate Speaker Table\n",
    "\n",
    "for name in list(name_to_xml.keys()):\n",
    "    print(name)\n",
    "    row = getCongMemberInfoFromMaster(name, name_to_xml[name])\n",
    "    speakers = speakers.with_row(row)\n",
    "speakers.show(5)\n",
    "speeches.show(5)"
   ]
  },
  {
   "cell_type": "code",
   "execution_count": 239,
   "metadata": {
    "collapsed": true
   },
   "outputs": [],
   "source": [
    "#populating speaker_id column of the speeches table.\n",
    "# newcol = make_array()\n",
    "# names = speeches.column('speaker_id')\n",
    "# for i in np.arange(len(names)):\n",
    "#     newcol = np.append(speakers.where('last_name', are.equal_to(names[i])).column('speaker_id').item(0), newcol)\n",
    "# copy_speeches = speeches.with_column('num_speaker_id', newcol)\n",
    "# copy_speeches.show(20)"
   ]
  },
  {
   "cell_type": "code",
   "execution_count": 240,
   "metadata": {
    "collapsed": true
   },
   "outputs": [],
   "source": [
    "names = speakers.column('last_name')\n",
    "ids = speakers.column('speaker_id')\n",
    "name_to_id = dict(zip(names, ids))\n",
    "name_to_id['CAPITO'] = 1676"
   ]
  },
  {
   "cell_type": "code",
   "execution_count": 241,
   "metadata": {
    "collapsed": true
   },
   "outputs": [],
   "source": [
    "newcol = make_array()\n",
    "for name in speeches.sort('speaker_id').column('speaker_id'):\n",
    "    newcol = np.append(name_to_id[name], newcol)\n",
    "speeches = speeches.sort('speaker_id').drop('speaker_id').with_column('speaker_id', np.flip(newcol, 0))"
   ]
  },
  {
   "cell_type": "code",
   "execution_count": 243,
   "metadata": {},
   "outputs": [
    {
     "data": {
      "text/html": [
       "<table border=\"1\" class=\"dataframe\">\n",
       "    <thead>\n",
       "        <tr>\n",
       "            <th>speech_id</th> <th>proceeding_id</th> <th>topic_id</th> <th>word_count</th> <th>speech_text</th> <th>file_name</th> <th>speaker_id</th>\n",
       "        </tr>\n",
       "    </thead>\n",
       "    <tbody>\n",
       "        <tr>\n",
       "            <td>526      </td> <td>proceeding_id</td> <td>topic-id</td> <td>37        </td> <td>I thank the distinguished Presiding Officer, the Senator ...</td> <td>CREC-2018-01-09-pt1-PgS88-2.txt </td> <td>1695      </td>\n",
       "        </tr>\n",
       "    </tbody>\n",
       "        <tr>\n",
       "            <td>527      </td> <td>proceeding_id</td> <td>topic-id</td> <td>410       </td> <td>Mr.President, on December 1, 2016, Judge Todd Campbell s ...</td> <td>CREC-2018-01-09-pt1-PgS88-2.txt </td> <td>1695      </td>\n",
       "        </tr>\n",
       "    </tbody>\n",
       "        <tr>\n",
       "            <td>528      </td> <td>proceeding_id</td> <td>topic-id</td> <td>36        </td> <td>Mr.President, I ask for the yeas and nays.  The PRESIDIN ...</td> <td>CREC-2018-01-09-pt1-PgS88-2.txt </td> <td>1695      </td>\n",
       "        </tr>\n",
       "    </tbody>\n",
       "        <tr>\n",
       "            <td>977      </td> <td>proceeding_id</td> <td>topic-id</td> <td>222       </td> <td>Mr.Speaker, I rise today to thank President Trump for sh ...</td> <td>CREC-2018-01-11-pt1-PgH163-2.txt</td> <td>2239      </td>\n",
       "        </tr>\n",
       "    </tbody>\n",
       "        <tr>\n",
       "            <td>907      </td> <td>proceeding_id</td> <td>topic-id</td> <td>6963      </td> <td>Mr.Speaker, I have an amendment at the desk.  The SPEAKE ...</td> <td>CREC-2018-01-11-pt1-PgH137-3.txt</td> <td>2029      </td>\n",
       "        </tr>\n",
       "    </tbody>\n",
       "        <tr>\n",
       "            <td>908      </td> <td>proceeding_id</td> <td>topic-id</td> <td>153       </td> <td>Mr.Speaker, I yield myself such time as I may consume.   ...</td> <td>CREC-2018-01-11-pt1-PgH137-3.txt</td> <td>2029      </td>\n",
       "        </tr>\n",
       "    </tbody>\n",
       "        <tr>\n",
       "            <td>911      </td> <td>proceeding_id</td> <td>topic-id</td> <td>11        </td> <td>Mr.Speaker, I yield 1 minute to the gentlewoman from Cal ...</td> <td>CREC-2018-01-11-pt1-PgH137-3.txt</td> <td>2029      </td>\n",
       "        </tr>\n",
       "    </tbody>\n",
       "        <tr>\n",
       "            <td>915      </td> <td>proceeding_id</td> <td>topic-id</td> <td>24        </td> <td>Mr.Speaker, my amendment protects the rights of American ...</td> <td>CREC-2018-01-11-pt1-PgH137-3.txt</td> <td>2029      </td>\n",
       "        </tr>\n",
       "    </tbody>\n",
       "        <tr>\n",
       "            <td>918      </td> <td>proceeding_id</td> <td>topic-id</td> <td>12        </td> <td>Mr.Speaker, I yield 30 seconds to the gentleman from New ...</td> <td>CREC-2018-01-11-pt1-PgH137-3.txt</td> <td>2029      </td>\n",
       "        </tr>\n",
       "    </tbody>\n",
       "        <tr>\n",
       "            <td>922      </td> <td>proceeding_id</td> <td>topic-id</td> <td>12        </td> <td>Mr.Speaker, I yield 30 seconds to the gentleman from Cal ...</td> <td>CREC-2018-01-11-pt1-PgH137-3.txt</td> <td>2029      </td>\n",
       "        </tr>\n",
       "    </tbody>\n",
       "</table>\n",
       "<p>... (573 rows omitted)</p>"
      ],
      "text/plain": [
       "speech_id | proceeding_id | topic_id | word_count | speech_text                                                  | file_name                        | speaker_id\n",
       "526       | proceeding_id | topic-id | 37         | I thank the distinguished Presiding Officer, the Senator ... | CREC-2018-01-09-pt1-PgS88-2.txt  | 1695\n",
       "527       | proceeding_id | topic-id | 410        | Mr.President, on December 1, 2016, Judge Todd Campbell s ... | CREC-2018-01-09-pt1-PgS88-2.txt  | 1695\n",
       "528       | proceeding_id | topic-id | 36         | Mr.President, I ask for the yeas and nays.  The PRESIDIN ... | CREC-2018-01-09-pt1-PgS88-2.txt  | 1695\n",
       "977       | proceeding_id | topic-id | 222        | Mr.Speaker, I rise today to thank President Trump for sh ... | CREC-2018-01-11-pt1-PgH163-2.txt | 2239\n",
       "907       | proceeding_id | topic-id | 6963       | Mr.Speaker, I have an amendment at the desk.  The SPEAKE ... | CREC-2018-01-11-pt1-PgH137-3.txt | 2029\n",
       "908       | proceeding_id | topic-id | 153        | Mr.Speaker, I yield myself such time as I may consume.   ... | CREC-2018-01-11-pt1-PgH137-3.txt | 2029\n",
       "911       | proceeding_id | topic-id | 11         | Mr.Speaker, I yield 1 minute to the gentlewoman from Cal ... | CREC-2018-01-11-pt1-PgH137-3.txt | 2029\n",
       "915       | proceeding_id | topic-id | 24         | Mr.Speaker, my amendment protects the rights of American ... | CREC-2018-01-11-pt1-PgH137-3.txt | 2029\n",
       "918       | proceeding_id | topic-id | 12         | Mr.Speaker, I yield 30 seconds to the gentleman from New ... | CREC-2018-01-11-pt1-PgH137-3.txt | 2029\n",
       "922       | proceeding_id | topic-id | 12         | Mr.Speaker, I yield 30 seconds to the gentleman from Cal ... | CREC-2018-01-11-pt1-PgH137-3.txt | 2029\n",
       "... (573 rows omitted)"
      ]
     },
     "execution_count": 243,
     "metadata": {},
     "output_type": "execute_result"
    }
   ],
   "source": []
  },
  {
   "cell_type": "code",
   "execution_count": 249,
   "metadata": {
    "collapsed": true
   },
   "outputs": [],
   "source": [
    "title_column = make_array()\n",
    "year_column = make_array()\n",
    "month_column = make_array()\n",
    "day_column = make_array()\n",
    "for file_name in speeches.column('file_name'):\n",
    "    title_column = np.append(find_title(file_name), title_column)\n",
    "    year, month, day = sep_date_from_file(file_name)\n",
    "    year_column = np.append(year, year_column)\n",
    "    month_column = np.append(month, month_column)\n",
    "    day_column = np.append(day, day_column)\n",
    "\n",
    "    title_column = np.flip(title_column, 0)\n",
    "year_column = np.flip(year_column, 0)\n",
    "mont_column = np.flip(month_column, 0)\n",
    "day_column = np.flip(day_column, 0)\n"
   ]
  },
  {
   "cell_type": "code",
   "execution_count": 250,
   "metadata": {
    "collapsed": true
   },
   "outputs": [],
   "source": [
    "speeches = speeches.drop('proceeding_id')\n",
    "speeches = speeches.with_columns('session_title', title_column, 'year', year_column, 'month', month_column, 'day', day_column)"
   ]
  },
  {
   "cell_type": "code",
   "execution_count": 256,
   "metadata": {},
   "outputs": [
    {
     "data": {
      "text/html": [
       "<table border=\"1\" class=\"dataframe\">\n",
       "    <thead>\n",
       "        <tr>\n",
       "            <th>speech_id</th> <th>topic_id</th> <th>word_count</th> <th>speech_text</th> <th>file_name</th> <th>speaker_id</th> <th>session_title</th> <th>year</th> <th>month</th> <th>day</th>\n",
       "        </tr>\n",
       "    </thead>\n",
       "    <tbody>\n",
       "        <tr>\n",
       "            <td>526      </td> <td>topic-id</td> <td>37        </td> <td>I thank the distinguished Presiding Officer, the Senator ...</td> <td>CREC-2018-01-09-pt1-PgS88-2.txt </td> <td>1695      </td> <td>EXECUTIVE CALENDAR--Continued</td> <td>2018</td> <td>01   </td> <td>09  </td>\n",
       "        </tr>\n",
       "    </tbody>\n",
       "        <tr>\n",
       "            <td>527      </td> <td>topic-id</td> <td>410       </td> <td>Mr.President, on December 1, 2016, Judge Todd Campbell s ...</td> <td>CREC-2018-01-09-pt1-PgS88-2.txt </td> <td>1695      </td> <td>EXECUTIVE CALENDAR--Continued</td> <td>2018</td> <td>01   </td> <td>09  </td>\n",
       "        </tr>\n",
       "    </tbody>\n",
       "        <tr>\n",
       "            <td>528      </td> <td>topic-id</td> <td>36        </td> <td>Mr.President, I ask for the yeas and nays.  The PRESIDIN ...</td> <td>CREC-2018-01-09-pt1-PgS88-2.txt </td> <td>1695      </td> <td>EXECUTIVE CALENDAR--Continued</td> <td>2018</td> <td>01   </td> <td>09  </td>\n",
       "        </tr>\n",
       "    </tbody>\n",
       "        <tr>\n",
       "            <td>977      </td> <td>topic-id</td> <td>222       </td> <td>Mr.Speaker, I rise today to thank President Trump for sh ...</td> <td>CREC-2018-01-11-pt1-PgH163-2.txt</td> <td>2239      </td> <td>SPOTLIGHT ON RURAL AMERICA   </td> <td>2018</td> <td>01   </td> <td>11  </td>\n",
       "        </tr>\n",
       "    </tbody>\n",
       "        <tr>\n",
       "            <td>907      </td> <td>topic-id</td> <td>6963      </td> <td>Mr.Speaker, I have an amendment at the desk.  The SPEAKE ...</td> <td>CREC-2018-01-11-pt1-PgH137-3.txt</td> <td>2029      </td> <td>RAPID DNA ACT OF 2017        </td> <td>2018</td> <td>01   </td> <td>11  </td>\n",
       "        </tr>\n",
       "    </tbody>\n",
       "        <tr>\n",
       "            <td>908      </td> <td>topic-id</td> <td>153       </td> <td>Mr.Speaker, I yield myself such time as I may consume.   ...</td> <td>CREC-2018-01-11-pt1-PgH137-3.txt</td> <td>2029      </td> <td>RAPID DNA ACT OF 2017        </td> <td>2018</td> <td>01   </td> <td>11  </td>\n",
       "        </tr>\n",
       "    </tbody>\n",
       "        <tr>\n",
       "            <td>911      </td> <td>topic-id</td> <td>11        </td> <td>Mr.Speaker, I yield 1 minute to the gentlewoman from Cal ...</td> <td>CREC-2018-01-11-pt1-PgH137-3.txt</td> <td>2029      </td> <td>RAPID DNA ACT OF 2017        </td> <td>2018</td> <td>01   </td> <td>11  </td>\n",
       "        </tr>\n",
       "    </tbody>\n",
       "        <tr>\n",
       "            <td>915      </td> <td>topic-id</td> <td>24        </td> <td>Mr.Speaker, my amendment protects the rights of American ...</td> <td>CREC-2018-01-11-pt1-PgH137-3.txt</td> <td>2029      </td> <td>RAPID DNA ACT OF 2017        </td> <td>2018</td> <td>01   </td> <td>11  </td>\n",
       "        </tr>\n",
       "    </tbody>\n",
       "        <tr>\n",
       "            <td>918      </td> <td>topic-id</td> <td>12        </td> <td>Mr.Speaker, I yield 30 seconds to the gentleman from New ...</td> <td>CREC-2018-01-11-pt1-PgH137-3.txt</td> <td>2029      </td> <td>RAPID DNA ACT OF 2017        </td> <td>2018</td> <td>01   </td> <td>11  </td>\n",
       "        </tr>\n",
       "    </tbody>\n",
       "        <tr>\n",
       "            <td>922      </td> <td>topic-id</td> <td>12        </td> <td>Mr.Speaker, I yield 30 seconds to the gentleman from Cal ...</td> <td>CREC-2018-01-11-pt1-PgH137-3.txt</td> <td>2029      </td> <td>RAPID DNA ACT OF 2017        </td> <td>2018</td> <td>01   </td> <td>11  </td>\n",
       "        </tr>\n",
       "    </tbody>\n",
       "</table>\n",
       "<p>... (573 rows omitted)</p>"
      ],
      "text/plain": [
       "speech_id | topic_id | word_count | speech_text                                                  | file_name                        | speaker_id | session_title                 | year | month | day\n",
       "526       | topic-id | 37         | I thank the distinguished Presiding Officer, the Senator ... | CREC-2018-01-09-pt1-PgS88-2.txt  | 1695       | EXECUTIVE CALENDAR--Continued | 2018 | 01    | 09\n",
       "527       | topic-id | 410        | Mr.President, on December 1, 2016, Judge Todd Campbell s ... | CREC-2018-01-09-pt1-PgS88-2.txt  | 1695       | EXECUTIVE CALENDAR--Continued | 2018 | 01    | 09\n",
       "528       | topic-id | 36         | Mr.President, I ask for the yeas and nays.  The PRESIDIN ... | CREC-2018-01-09-pt1-PgS88-2.txt  | 1695       | EXECUTIVE CALENDAR--Continued | 2018 | 01    | 09\n",
       "977       | topic-id | 222        | Mr.Speaker, I rise today to thank President Trump for sh ... | CREC-2018-01-11-pt1-PgH163-2.txt | 2239       | SPOTLIGHT ON RURAL AMERICA    | 2018 | 01    | 11\n",
       "907       | topic-id | 6963       | Mr.Speaker, I have an amendment at the desk.  The SPEAKE ... | CREC-2018-01-11-pt1-PgH137-3.txt | 2029       | RAPID DNA ACT OF 2017         | 2018 | 01    | 11\n",
       "908       | topic-id | 153        | Mr.Speaker, I yield myself such time as I may consume.   ... | CREC-2018-01-11-pt1-PgH137-3.txt | 2029       | RAPID DNA ACT OF 2017         | 2018 | 01    | 11\n",
       "911       | topic-id | 11         | Mr.Speaker, I yield 1 minute to the gentlewoman from Cal ... | CREC-2018-01-11-pt1-PgH137-3.txt | 2029       | RAPID DNA ACT OF 2017         | 2018 | 01    | 11\n",
       "915       | topic-id | 24         | Mr.Speaker, my amendment protects the rights of American ... | CREC-2018-01-11-pt1-PgH137-3.txt | 2029       | RAPID DNA ACT OF 2017         | 2018 | 01    | 11\n",
       "918       | topic-id | 12         | Mr.Speaker, I yield 30 seconds to the gentleman from New ... | CREC-2018-01-11-pt1-PgH137-3.txt | 2029       | RAPID DNA ACT OF 2017         | 2018 | 01    | 11\n",
       "922       | topic-id | 12         | Mr.Speaker, I yield 30 seconds to the gentleman from Cal ... | CREC-2018-01-11-pt1-PgH137-3.txt | 2029       | RAPID DNA ACT OF 2017         | 2018 | 01    | 11\n",
       "... (573 rows omitted)"
      ]
     },
     "execution_count": 256,
     "metadata": {},
     "output_type": "execute_result"
    }
   ],
   "source": [
    "speeches"
   ]
  },
  {
   "cell_type": "code",
   "execution_count": 259,
   "metadata": {},
   "outputs": [
    {
     "data": {
      "text/html": [
       "<table border=\"1\" class=\"dataframe\">\n",
       "    <thead>\n",
       "        <tr>\n",
       "            <th>speaker_id</th> <th>first_name</th> <th>last_name</th> <th>type</th> <th>party</th> <th>state</th> <th>district</th> <th>bio_guide_id</th> <th>congress_id</th>\n",
       "        </tr>\n",
       "    </thead>\n",
       "    <tbody>\n",
       "        <tr>\n",
       "            <td>2307      </td> <td>Andy      </td> <td>BIGGS    </td> <td>REPRESENTATIVE</td> <td>R    </td> <td>AZ   </td> <td>N/A     </td> <td>B001302     </td> <td>115        </td>\n",
       "        </tr>\n",
       "    </tbody>\n",
       "        <tr>\n",
       "            <td>1723      </td> <td>Madeleine </td> <td>BORDALLO </td> <td>REPRESENTATIVE</td> <td>D    </td> <td>GU   </td> <td>N/A     </td> <td>B001245     </td> <td>115        </td>\n",
       "        </tr>\n",
       "    </tbody>\n",
       "        <tr>\n",
       "            <td>1742      </td> <td>Tom       </td> <td>CORREA   </td> <td>REPRESENTATIVE</td> <td>R    </td> <td>OK   </td> <td>N/A     </td> <td>C001053     </td> <td>115        </td>\n",
       "        </tr>\n",
       "    </tbody>\n",
       "        <tr>\n",
       "            <td>2363      </td> <td>John      </td> <td>CURTIS   </td> <td>REPRESENTATIVE</td> <td>R    </td> <td>UT   </td> <td>N/A     </td> <td>C001114     </td> <td>115        </td>\n",
       "        </tr>\n",
       "    </tbody>\n",
       "        <tr>\n",
       "            <td>2320      </td> <td>Val       </td> <td>DEMINGS  </td> <td>REPRESENTATIVE</td> <td>D    </td> <td>FL   </td> <td>N/A     </td> <td>D000627     </td> <td>115        </td>\n",
       "        </tr>\n",
       "    </tbody>\n",
       "        <tr>\n",
       "            <td>2315      </td> <td>Neal      </td> <td>DUNN     </td> <td>REPRESENTATIVE</td> <td>R    </td> <td>FL   </td> <td>N/A     </td> <td>D000628     </td> <td>115        </td>\n",
       "        </tr>\n",
       "    </tbody>\n",
       "        <tr>\n",
       "            <td>2342      </td> <td>Adriano   </td> <td>ESPAILLAT</td> <td>REPRESENTATIVE</td> <td>D    </td> <td>NY   </td> <td>N/A     </td> <td>E000297     </td> <td>115        </td>\n",
       "        </tr>\n",
       "    </tbody>\n",
       "        <tr>\n",
       "            <td>2355      </td> <td>Mike      </td> <td>GALLAGHER</td> <td>REPRESENTATIVE</td> <td>R    </td> <td>WI   </td> <td>N/A     </td> <td>G000579     </td> <td>115        </td>\n",
       "        </tr>\n",
       "    </tbody>\n",
       "        <tr>\n",
       "            <td>2359      </td> <td>Greg      </td> <td>GIANFORTE</td> <td>REPRESENTATIVE</td> <td>R    </td> <td>MT   </td> <td>N/A     </td> <td>G000584     </td> <td>115        </td>\n",
       "        </tr>\n",
       "    </tbody>\n",
       "        <tr>\n",
       "            <td>2362      </td> <td>Jimmy     </td> <td>GOMEZ    </td> <td>REPRESENTATIVE</td> <td>D    </td> <td>CA   </td> <td>N/A     </td> <td>G000585     </td> <td>115        </td>\n",
       "        </tr>\n",
       "    </tbody>\n",
       "</table>\n",
       "<p>... (12 rows omitted)</p>"
      ],
      "text/plain": [
       "speaker_id | first_name | last_name | type           | party | state | district | bio_guide_id | congress_id\n",
       "2307       | Andy       | BIGGS     | REPRESENTATIVE | R     | AZ    | N/A      | B001302      | 115\n",
       "1723       | Madeleine  | BORDALLO  | REPRESENTATIVE | D     | GU    | N/A      | B001245      | 115\n",
       "1742       | Tom        | CORREA    | REPRESENTATIVE | R     | OK    | N/A      | C001053      | 115\n",
       "2363       | John       | CURTIS    | REPRESENTATIVE | R     | UT    | N/A      | C001114      | 115\n",
       "2320       | Val        | DEMINGS   | REPRESENTATIVE | D     | FL    | N/A      | D000627      | 115\n",
       "2315       | Neal       | DUNN      | REPRESENTATIVE | R     | FL    | N/A      | D000628      | 115\n",
       "2342       | Adriano    | ESPAILLAT | REPRESENTATIVE | D     | NY    | N/A      | E000297      | 115\n",
       "2355       | Mike       | GALLAGHER | REPRESENTATIVE | R     | WI    | N/A      | G000579      | 115\n",
       "2359       | Greg       | GIANFORTE | REPRESENTATIVE | R     | MT    | N/A      | G000584      | 115\n",
       "2362       | Jimmy      | GOMEZ     | REPRESENTATIVE | D     | CA    | N/A      | G000585      | 115\n",
       "... (12 rows omitted)"
      ]
     },
     "execution_count": 259,
     "metadata": {},
     "output_type": "execute_result"
    }
   ],
   "source": [
    "speakers.where('district', are.equal_to('N/A')).where('type', are.equal_to('REPRESENTATIVE'))"
   ]
  },
  {
   "cell_type": "code",
   "execution_count": 264,
   "metadata": {},
   "outputs": [
    {
     "data": {
      "text/plain": [
       "168"
      ]
     },
     "execution_count": 264,
     "metadata": {},
     "output_type": "execute_result"
    }
   ],
   "source": []
  },
  {
   "cell_type": "code",
   "execution_count": null,
   "metadata": {
    "collapsed": true
   },
   "outputs": [],
   "source": []
  }
 ],
 "metadata": {
  "kernelspec": {
   "display_name": "Python 3",
   "language": "python",
   "name": "python3"
  },
  "language_info": {
   "codemirror_mode": {
    "name": "ipython",
    "version": 3
   },
   "file_extension": ".py",
   "mimetype": "text/x-python",
   "name": "python",
   "nbconvert_exporter": "python",
   "pygments_lexer": "ipython3",
   "version": "3.6.3"
  }
 },
 "nbformat": 4,
 "nbformat_minor": 2
}
